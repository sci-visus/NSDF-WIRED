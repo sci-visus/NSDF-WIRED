{
 "cells": [
  {
   "cell_type": "markdown",
   "id": "217f49b7-528d-4384-aede-cc371224b9fd",
   "metadata": {},
   "source": [
    "# Create .PNG images of all timesteps in IDX firesmoke dataset"
   ]
  },
  {
   "cell_type": "markdown",
   "id": "38ac89f1-da13-4a78-b05f-ac4a17fea961",
   "metadata": {},
   "source": [
    "## Import necessary libraries"
   ]
  },
  {
   "cell_type": "code",
   "execution_count": null,
   "id": "dfdb7475-1c3d-41ef-92a2-dbaaaba8ef6f",
   "metadata": {},
   "outputs": [],
   "source": [
    "import numpy as np # <1>\n",
    "import os # <2>\n",
    "import requests # <3>\n",
    "import xarray as xr # <4>\n",
    "from openvisuspy.xarray_backend import OpenVisusBackendEntrypoint # <5>\n",
    "import time # <6>\n",
    "import datetime # <6>\n",
    "import pandas as pd # <7>\n",
    "import matplotlib # <8>\n",
    "import matplotlib.pyplot as plt # <8>\n",
    "import cartopy.crs as ccrs # <8>\n",
    "import pickle # <9>\n",
    "os.environ[\"VISUS_CACHE\"]=\"./visus_cache_can_be_erased\" # <10>\n",
    "from tqdm import tqdm # <11>\n",
    "from OpenVisus import * # <12>"
   ]
  },
  {
   "cell_type": "markdown",
   "id": "dbf9560d-430f-49f1-9b21-27af9f9c9f0f",
   "metadata": {},
   "source": [
    "1. For numerical work\n",
    "2. For accessing the file system\n",
    "3. For downloading the latest firesmoke NetCDF\n",
    "4. For loading NetCDF files and metadata\n",
    "5. For connecting the OpenVisus framework to xarray (from [openvisuspy](https://github.com/sci-visus/openvisuspy))\n",
    "6. Used for processing NetCDF time data\n",
    "7. Used for indexing via metadata\n",
    "8. For plotting\n",
    "9. For exporting the dictionary of issue files at the end of the notebook\n",
    "10. Stores the OpenVisus cache in the local directory\n",
    "11. Accessory, used to generate a progress bar for running for loops\n",
    "12. For importing OpenVisus functions"
   ]
  },
  {
   "cell_type": "markdown",
   "id": "f31dce7e-0bb4-459a-bf1f-85934fb960e5",
   "metadata": {
    "tags": []
   },
   "source": [
    "### In this section, we load our data using `xr.open_dataset`."
   ]
  },
  {
   "cell_type": "code",
   "execution_count": null,
   "id": "a7ab5486-318a-4a2b-8af2-7fa89509b9e4",
   "metadata": {},
   "outputs": [],
   "source": [
    "url = 'https://github.com/sci-visus/NSDF-WIRED/raw/main/data/firesmoke_metadata_recent.nc' # <1>\n",
    "\n",
    "response = requests.get(url) # <2>\n",
    "local_netcdf = 'firesmoke_metadata.nc' # <3>\n",
    "with open(local_netcdf, 'wb') as f: # <4>\n",
    "    f.write(response.content)\n",
    "\n",
    "ds = xr.open_dataset(local_netcdf, engine=OpenVisusBackendEntrypoint) # <5>"
   ]
  },
  {
   "cell_type": "markdown",
   "id": "52e27b94-315b-4fda-8b17-1ffc1220ce3f",
   "metadata": {},
   "source": [
    "1. Path to the tiny NetCDF file\n",
    "2. Download the file using `requests`\n",
    "3. Local filename for the NetCDF file\n",
    "4. Write the downloaded content to the local file system\n",
    "5. Open the tiny NetCDF file with xarray and the OpenVisus backend"
   ]
  },
  {
   "cell_type": "markdown",
   "id": "924a37bd-1218-4096-bd68-f85e12dbf566",
   "metadata": {},
   "source": [
    "## Calculate derived metadata using original metadata above to create coordinates\n",
    "### This is required to allow for indexing of data via metadata"
   ]
  },
  {
   "cell_type": "markdown",
   "id": "7488084c-f982-4d03-ab25-7c81679aef1c",
   "metadata": {},
   "source": [
    "#### Calculate latitude and longitude grid"
   ]
  },
  {
   "cell_type": "code",
   "execution_count": null,
   "id": "dd8287e0-dd1b-486a-850f-4ac8f229a23e",
   "metadata": {},
   "outputs": [],
   "source": [
    "xorig = ds.XORIG\n",
    "yorig = ds.YORIG\n",
    "xcell = ds.XCELL\n",
    "ycell = ds.YCELL\n",
    "ncols = ds.NCOLS\n",
    "nrows = ds.NROWS\n",
    "\n",
    "longitude = np.linspace(xorig, xorig + xcell * (ncols - 1), ncols)\n",
    "latitude = np.linspace(yorig, yorig + ycell * (nrows - 1), nrows)"
   ]
  },
  {
   "cell_type": "markdown",
   "id": "9627e8f5-b7df-4abc-aedf-8938bbebee29",
   "metadata": {},
   "source": [
    "#### Using calculated latitude and longitude, create coordinates allowing for indexing data using lat/lon"
   ]
  },
  {
   "cell_type": "code",
   "execution_count": null,
   "id": "3f07279c-353b-4a74-a1ff-5c6543255a4f",
   "metadata": {
    "tags": []
   },
   "outputs": [],
   "source": [
    "ds.coords['lat'] = ('ROW', latitude) # <1>\n",
    "ds.coords['lon'] = ('COL', longitude) # <2>\n",
    "\n",
    "ds = ds.swap_dims({'COL': 'lon', 'ROW': 'lat'}) # <3>"
   ]
  },
  {
   "cell_type": "markdown",
   "id": "a9496956-038b-4096-a63e-3cf0d5a777cf",
   "metadata": {},
   "source": [
    "1. Create coordinates for latitude based on the `ROW` dimension\n",
    "2. Create coordinates for longitude based on the `COL` dimension\n",
    "3. Replace the `COL` and `ROW` dimensions with the newly calculated longitude and latitude arrays"
   ]
  },
  {
   "cell_type": "markdown",
   "id": "de21fc5d-2883-4679-80db-4546e77ac62d",
   "metadata": {},
   "source": [
    "## Get timestamps to label video frames\n",
    "Need to use `idx_calls` generated during conversion"
   ]
  },
  {
   "cell_type": "code",
   "execution_count": null,
   "id": "80fdbd88-5b50-4815-ba7e-02145c0fa2f0",
   "metadata": {},
   "outputs": [],
   "source": [
    "with open('idx_calls_v4.pkl', 'rb') as f: # <1>\n",
    "    idx_calls = pickle.load(f) # <1>"
   ]
  },
  {
   "cell_type": "markdown",
   "id": "d90775e0-9b06-4777-b496-2c548dda203a",
   "metadata": {},
   "source": [
    "1. Load idx_calls from file"
   ]
  },
  {
   "cell_type": "markdown",
   "id": "96b1a606-c306-4727-8e04-96c8de3069bf",
   "metadata": {},
   "source": [
    "##### Return an array of the tflags as pandas timestamps"
   ]
  },
  {
   "cell_type": "code",
   "execution_count": null,
   "id": "84a346c0-3874-4d73-aef5-37a329641098",
   "metadata": {},
   "outputs": [],
   "source": [
    "timestamps = [] # <1>\n",
    "\n",
    "for call in idx_calls: # <2>\n",
    "    timestamps.append(pd.Timestamp(call[2])) # <3>"
   ]
  },
  {
   "cell_type": "markdown",
   "id": "6ae3f275-799d-4a26-84d4-45296835f93d",
   "metadata": {},
   "source": [
    "1. Initialize an empty list to store pandas timestamps\n",
    "2. Loop through the `idx_calls` to process each call\n",
    "3. Convert the `tflags` to pandas `Timestamp` and store in the `timestamps` list"
   ]
  },
  {
   "cell_type": "markdown",
   "id": "a41bb5f3-d231-4fe7-8be6-69c53e78df99",
   "metadata": {},
   "source": [
    "## Create the video"
   ]
  },
  {
   "cell_type": "code",
   "execution_count": null,
   "id": "ddf4f35e-eb0a-4e60-86aa-018cd76ea290",
   "metadata": {},
   "outputs": [],
   "source": [
    "data_resolution = 0 # <1>\n",
    "folder = \"/usr/sci/scratch_nvme/arleth/dump/idx_frames\" # <2>\n",
    "\n",
    "my_norm = \"log\" # <3>\n",
    "my_extent = [np.min(longitude), np.max(longitude), np.min(latitude), np.max(latitude)] # <3>\n",
    "my_aspect = 'auto' # <3>\n",
    "my_origin = 'lower' # <3>\n",
    "my_cmap = 'hot' # <3>\n",
    "\n",
    "issue_files = {} # <4>\n",
    "\n",
    "for i in tqdm(range(len(idx_calls))): # <5>\n",
    "    data_array_at_time = ds['PM25'].loc[i, :, :, data_resolution] # <6>\n",
    "\n",
    "    try: # <7>\n",
    "        my_fig, my_plt = plt.subplots(figsize=(15, 6), subplot_kw=dict(projection=ccrs.PlateCarree()))\n",
    "        plot = my_plt.imshow(data, norm=my_norm, extent=my_extent, aspect=my_aspect, origin=my_origin, cmap=my_cmap)\n",
    "        my_fig.colorbar(plot, location='right', label='ug/m^3')\n",
    "        my_plt.coastlines()\n",
    "        my_plt.gridlines(draw_labels=True)\n",
    "        my_fig.suptitle(f'Ground level concentration of PM2.5 microns and smaller {timestamps[i]}\\n')\n",
    "        my_plt.text(0.5, -0.1, 'IDX Data', ha='center', va='center', transform=my_plt.transAxes)\n",
    "        \n",
    "        plt.savefig(folder + \"/frames%05d.png\" % i, dpi=280) # <8>\n",
    "        plt.close(my_fig)\n",
    "        matplotlib.pyplot.close()\n",
    "    except: # <9>\n",
    "        issue_files[timestamps[i]] = data # <9>\n",
    "        continue # <9>"
   ]
  },
  {
   "cell_type": "markdown",
   "id": "2a058f5e-3be2-41a3-a20a-de165098b8e1",
   "metadata": {},
   "source": [
    "1. Set the resolution level of the `PM25` data to max\n",
    "2. Directory of environment to save frames\n",
    "3. Set parameters for creating visualization of each timestep with matplotlib.\n",
    "4. Dictionary to keep track of files with 'issues'.\n",
    "5. For all timesteps create visualization of firesmoke at time.\n",
    "6. Get PM2.5 values and provide 4 values, the colons mean select all lat and lon indices.\n",
    "7. Try creating the visualization or catch exceptions accordingly.\n",
    "8. Save images to file.\n",
    "9. Print exception if one is found and save issue in issue dictionary using timestamp `t` as key."
   ]
  },
  {
   "cell_type": "code",
   "execution_count": null,
   "id": "97eb7afe-5960-4fee-aec8-b815c34c2664",
   "metadata": {},
   "outputs": [],
   "source": [
    "with open('new_idx_issues.pkl', 'wb') as f: # <1>\n",
    "    pickle.dump(issue_files, f) # <1>"
   ]
  },
  {
   "cell_type": "markdown",
   "id": "c3076d6a-0cbb-4c31-becd-b92694853d45",
   "metadata": {},
   "source": [
    "1. Save 'issue_files' to review"
   ]
  }
 ],
 "metadata": {
  "kernelspec": {
   "display_name": "Python 3 (ipykernel)",
   "language": "python",
   "name": "python3"
  },
  "language_info": {
   "codemirror_mode": {
    "name": "ipython",
    "version": 3
   },
   "file_extension": ".py",
   "mimetype": "text/x-python",
   "name": "python",
   "nbconvert_exporter": "python",
   "pygments_lexer": "ipython3",
   "version": "3.9.18"
  }
 },
 "nbformat": 4,
 "nbformat_minor": 5
}
