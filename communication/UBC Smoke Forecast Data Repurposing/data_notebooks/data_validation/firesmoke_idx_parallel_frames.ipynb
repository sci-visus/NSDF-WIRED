{
 "cells": [
  {
   "cell_type": "markdown",
   "id": "217f49b7-528d-4384-aede-cc371224b9fd",
   "metadata": {},
   "source": [
    "# Create .PNG images of all timesteps in IDX firesmoke dataset"
   ]
  },
  {
   "cell_type": "markdown",
   "id": "38ac89f1-da13-4a78-b05f-ac4a17fea961",
   "metadata": {},
   "source": [
    "## Import necessary libraries"
   ]
  },
  {
   "cell_type": "code",
   "execution_count": null,
   "id": "c81b8292-2574-4b55-8e59-5863c1326126",
   "metadata": {},
   "outputs": [],
   "source": [
    "import numpy as np # <1>\n",
    "import os # <2>\n",
    "import requests # <3>\n",
    "import xarray as xr # <4>\n",
    "from openvisuspy.xarray_backend import OpenVisusBackendEntrypoint # <5>\n",
    "import time # <6>\n",
    "import datetime # <6>\n",
    "import pandas as pd # <7>\n",
    "import matplotlib # <8>\n",
    "import matplotlib.pyplot as plt # <8>\n",
    "import cartopy.crs as ccrs # <8>\n",
    "import pickle # <9>\n",
    "os.environ[\"VISUS_CACHE\"]=\"./visus_cache_can_be_erased\" # <10>\n",
    "from tqdm import tqdm # <11>\n",
    "from OpenVisus import * # <12>"
   ]
  },
  {
   "cell_type": "markdown",
   "id": "9550805e-99c2-4f5d-a5cd-e390321f073b",
   "metadata": {},
   "source": [
    "1. For numerical work\n",
    "2. For accessing the file system\n",
    "3. For downloading the latest firesmoke NetCDF\n",
    "4. For loading NetCDF files and metadata\n",
    "5. For connecting the OpenVisus framework to xarray (from [openvisuspy](https://github.com/sci-visus/openvisuspy))\n",
    "6. Used for processing NetCDF time data\n",
    "7. Used for indexing via metadata\n",
    "8. For plotting\n",
    "9. For exporting the dictionary of issue files at the end of the notebook\n",
    "10. Stores the OpenVisus cache in the local directory\n",
    "11. Accessory, used to generate a progress bar for running for loops\n",
    "12. For importing OpenVisus functions"
   ]
  },
  {
   "cell_type": "markdown",
   "id": "f31dce7e-0bb4-459a-bf1f-85934fb960e5",
   "metadata": {
    "tags": []
   },
   "source": [
    "### In this section, we load our data using `xr.open_dataset`."
   ]
  },
  {
   "cell_type": "code",
   "execution_count": null,
   "id": "a7ab5486-318a-4a2b-8af2-7fa89509b9e4",
   "metadata": {},
   "outputs": [],
   "source": [
    "url = 'https://github.com/sci-visus/NSDF-WIRED/raw/main/data/firesmoke_metadata.nc' # <1>\n",
    "\n",
    "response = requests.get(url) # <2>\n",
    "local_netcdf = 'firesmoke_metadata.nc' # <3>\n",
    "with open(local_netcdf, 'wb') as f: # <4>\n",
    "    f.write(response.content)\n",
    "\n",
    "ds = xr.open_dataset(local_netcdf, engine=OpenVisusBackendEntrypoint) # <5>"
   ]
  },
  {
   "cell_type": "markdown",
   "id": "9d02508a-1a50-4217-bae5-10c291c497d9",
   "metadata": {},
   "source": [
    "1. Path to the tiny NetCDF file\n",
    "2. Download the file using `requests`\n",
    "3. Local filename for the NetCDF file\n",
    "4. Write the downloaded content to the local file system\n",
    "5. Open the tiny NetCDF file with xarray and the OpenVisus backend"
   ]
  },
  {
   "cell_type": "markdown",
   "id": "924a37bd-1218-4096-bd68-f85e12dbf566",
   "metadata": {},
   "source": [
    "## Calculate derived metadata using original metadata above to create coordinates\n",
    "### This is required to allow for indexing of data via metadata"
   ]
  },
  {
   "cell_type": "markdown",
   "id": "7488084c-f982-4d03-ab25-7c81679aef1c",
   "metadata": {},
   "source": [
    "#### Calculate latitude and longitude grid"
   ]
  },
  {
   "cell_type": "code",
   "execution_count": null,
   "id": "dd8287e0-dd1b-486a-850f-4ac8f229a23e",
   "metadata": {},
   "outputs": [],
   "source": [
    "xorig = ds.XORIG\n",
    "yorig = ds.YORIG\n",
    "xcell = ds.XCELL\n",
    "ycell = ds.YCELL\n",
    "ncols = ds.NCOLS\n",
    "nrows = ds.NROWS\n",
    "\n",
    "longitude = np.linspace(xorig, xorig + xcell * (ncols - 1), ncols)\n",
    "latitude = np.linspace(yorig, yorig + ycell * (nrows - 1), nrows)"
   ]
  },
  {
   "cell_type": "markdown",
   "id": "9627e8f5-b7df-4abc-aedf-8938bbebee29",
   "metadata": {},
   "source": [
    "#### Using calculated latitude and longitude, create coordinates allowing for indexing data using lat/lon"
   ]
  },
  {
   "cell_type": "code",
   "execution_count": null,
   "id": "3f07279c-353b-4a74-a1ff-5c6543255a4f",
   "metadata": {
    "tags": []
   },
   "outputs": [],
   "source": [
    "ds.coords['lat'] = ('ROW', latitude) # <1>\n",
    "ds.coords['lon'] = ('COL', longitude) # <2>\n",
    "\n",
    "ds = ds.swap_dims({'COL': 'lon', 'ROW': 'lat'}) # <3>"
   ]
  },
  {
   "cell_type": "markdown",
   "id": "5d272506-3019-4ef7-bbef-20f151686212",
   "metadata": {},
   "source": [
    "1. Create coordinates for latitude based on the `ROW` dimension\n",
    "2. Create coordinates for longitude based on the `COL` dimension\n",
    "3. Replace the `COL` and `ROW` dimensions with the newly calculated longitude and latitude arrays"
   ]
  },
  {
   "cell_type": "markdown",
   "id": "a41bb5f3-d231-4fe7-8be6-69c53e78df99",
   "metadata": {},
   "source": [
    "## Create the frames"
   ]
  },
  {
   "cell_type": "code",
   "execution_count": null,
   "id": "07aabeb1-271c-40d8-a99d-3b256263e471",
   "metadata": {
    "tags": []
   },
   "outputs": [],
   "source": [
    "def parse_tflag(tflag):\n",
    "    \"\"\"\n",
    "    Return the tflag as a datetime object\n",
    "    :param list tflag: a list of two int32, the 1st representing date and 2nd representing time\n",
    "    \"\"\"\n",
    "    date = int(tflag[0]) # <1>\n",
    "    year = date // 1000 # first 4 digits of tflag[0] # <1>\n",
    "    day_of_year = date % 1000 # last 3 digits of tflag[0] # <1>\n",
    "\n",
    "    final_date = datetime.datetime(year, 1, 1) + datetime.timedelta(days=day_of_year - 1) # <2>\n",
    "\n",
    "    time = int(tflag[1]) # <3>\n",
    "    hours = time // 10000 # first 2 digits of tflag[1] # <3>\n",
    "    minutes = (time % 10000) // 100 # 3rd and 4th digits of tflag[1] # <3>\n",
    "    seconds = time % 100  # last 2 digits of tflag[1] # <3>\n",
    "\n",
    "    full_datetime = datetime.datetime(year, final_date.month, final_date.day, hours, minutes, seconds) # <4>\n",
    "    return full_datetime"
   ]
  },
  {
   "cell_type": "markdown",
   "id": "2b1b28fb-bb91-4fe5-8dea-82d3f0b4aab0",
   "metadata": {},
   "source": [
    "1. Obtain year and day of year from tflag[0] (date)\n",
    "2. Create datetime object representing date\n",
    "3. Obtain hour, mins, and secs from tflag[1] (time)\n",
    "4. Create final datetime object"
   ]
  },
  {
   "cell_type": "code",
   "execution_count": null,
   "id": "55cbc300-7eea-40ef-9e53-0c69276503c9",
   "metadata": {
    "tags": []
   },
   "outputs": [],
   "source": [
    "# set parameters for creating visualization of each timestep with matplotlib\n",
    "my_norm = \"log\" # <1>\n",
    "my_extent = [np.min(longitude), np.max(longitude), np.min(latitude), np.max(latitude)] # <1>\n",
    "my_aspect = 'auto' # <1>\n",
    "my_origin = 'lower' # <1>\n",
    "my_cmap = 'hot' # <1>\n",
    "\n",
    "data_resolution = 0 # <2>\n",
    "save_dir = \"/usr/sci/scratch_nvme/arleth/dump/idx_frames/parallel/\" # <3>\n",
    "issue_files = {} # <4>\n",
    "\n",
    "def create_frame_catch_issues(tstep):\n",
    "    '''\n",
    "    For given integer timestep, get the PM2.5 prediction and visualize it, or report that it is an 'issue' in our\n",
    "    issue_files dictionary.\n",
    "    :param tstep: The integer timestep we want to visualize.\n",
    "    '''\n",
    "    data_array_at_time = ds['PM25'].loc[tstep, :, :, data_resolution] # <5>\n",
    "    \n",
    "    try: # <6>\n",
    "        t = pd.Timestamp(parse_tflag(ds.TFLAG[tstep][0]))\n",
    "        my_fig, my_plt = plt.subplots(figsize=(15, 6), subplot_kw=dict(projection=ccrs.PlateCarree()))\n",
    "        plot = my_plt.imshow(data_array_at_time, norm=my_norm, extent=my_extent, aspect=my_aspect, origin=my_origin, cmap=my_cmap)\n",
    "        my_fig.colorbar(plot,location='right', label='ug/m^3')\n",
    "        my_plt.coastlines()\n",
    "        my_plt.gridlines(draw_labels=True)\n",
    "        my_fig.suptitle(f'Ground level concentration of PM2.5 microns and smaller {t}\\n')\n",
    "        my_plt.text(0.5, -0.1, 'IDX Data', ha='center', va='center', transform=my_plt.transAxes)\n",
    "        \n",
    "        plt.savefig(save_dir + \"frames%05d.png\" % tstep, dpi=280) # <7>\n",
    "        plt.close(my_fig)\n",
    "        matplotlib.pyplot.close()\n",
    "    except: # <8>\n",
    "        t = pd.Timestamp(parse_tflag(ds.TFLAG[tstep][0]))# <8>\n",
    "        print(f\"issue! {t}\")# <8>\n",
    "        return t, data_array_at_time# <8>"
   ]
  },
  {
   "cell_type": "markdown",
   "id": "c0cd2a7b-a677-4f3f-8a26-ce2b57093040",
   "metadata": {},
   "source": [
    "1. Set parameters for creating visualization of each timestep with matplotlib.\n",
    "2. Set the resolution level of the `PM25` data to max\n",
    "3. Directory of environment to save frames\n",
    "4. Dictionary to keep track of files with 'issues'.\n",
    "5. Get PM2.5 values for given timestep, data resolution, and for all available latitudes and longitudes.\n",
    "6. Try creating the visualization or catch exceptions accordingly.\n",
    "7. Save image to file.\n",
    "8. Print exception if one is found and save issue in issue dictionary using timestamp `t` as key."
   ]
  },
  {
   "cell_type": "code",
   "execution_count": null,
   "id": "709b9d45-a5d5-4163-9003-5a5d15e5841a",
   "metadata": {
    "tags": []
   },
   "outputs": [],
   "source": [
    "with multiprocessing.Pool() as pool: # <1>\n",
    "    start_time = time.time() # <2>\n",
    "    issues = pool.map(create_frame_catch_issues, np.arange(0, 30))\n",
    "    # End the timer and print the elapsed time\n",
    "    end_time = time.time()\n",
    "    print(f'Total elapsed time: {end_time - start_time}')"
   ]
  },
  {
   "cell_type": "markdown",
   "id": "e54cae77-71e3-4b64-973f-bad86514bf13",
   "metadata": {},
   "source": [
    "1. Create a pool of workers to submit `create_frame_catch_issues`.\n",
    "2. Start a timer to measure how long it takes."
   ]
  },
  {
   "cell_type": "code",
   "execution_count": null,
   "id": "97eb7afe-5960-4fee-aec8-b815c34c2664",
   "metadata": {},
   "outputs": [],
   "source": [
    "with open('new_idx_issues.pkl', 'wb') as f: # <1>\n",
    "    pickle.dump(issue_files, f)# <1>"
   ]
  },
  {
   "cell_type": "markdown",
   "id": "dbf13889-a8c0-4525-9027-a320bbac16ea",
   "metadata": {},
   "source": [
    "1. Save 'issue_files' to review"
   ]
  }
 ],
 "metadata": {
  "kernelspec": {
   "display_name": "Python 3 (ipykernel)",
   "language": "python",
   "name": "python3"
  },
  "language_info": {
   "codemirror_mode": {
    "name": "ipython",
    "version": 3
   },
   "file_extension": ".py",
   "mimetype": "text/x-python",
   "name": "python",
   "nbconvert_exporter": "python",
   "pygments_lexer": "ipython3",
   "version": "3.11.5"
  }
 },
 "nbformat": 4,
 "nbformat_minor": 5
}
