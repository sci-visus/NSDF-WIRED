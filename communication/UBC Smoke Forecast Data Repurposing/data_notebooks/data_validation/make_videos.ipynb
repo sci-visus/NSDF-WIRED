{
 "cells": [
  {
   "cell_type": "markdown",
   "id": "29e8151e-9b57-4de7-9f8a-c93c3218d27a",
   "metadata": {},
   "source": [
    "# Create videos using .PNG images generated"
   ]
  },
  {
   "cell_type": "code",
   "execution_count": null,
   "id": "d742c8dc-5c39-4440-b57a-97c06aa928ee",
   "metadata": {
    "tags": []
   },
   "outputs": [],
   "source": [
    "# ref: https://stackoverflow.com/questions/43048725/python-creating-video-from-images-using-opencv\n",
    "import cv2 # <1>\n",
    "import numpy as np # <2>\n",
    "import os # <3>\n",
    "import time # <4>"
   ]
  },
  {
   "cell_type": "markdown",
   "id": "f9eb3cba-07ed-496e-ac2f-7ff0f1d455d7",
   "metadata": {},
   "source": [
    "1. For creating the video\n",
    "2. For numerical work\n",
    "3. For accessing file system\n",
    "4. Used for processing NetCDF time data"
   ]
  },
  {
   "cell_type": "code",
   "execution_count": null,
   "id": "42ba1260-fe79-4454-8399-730c613290f2",
   "metadata": {
    "tags": []
   },
   "outputs": [],
   "source": [
    "def make_video(img_dir, video_dir, video_name):\n",
    "    '''\n",
    "    Create a video made of frames at img_dir and save to video_dir with the name video_name\n",
    "    :param \n",
    "    '''\n",
    "    # ref: https://stackoverflow.com/questions/27593227/listing-png-files-in-folder\n",
    "    images = [img for img in os.listdir(img_dir) if img.endswith(\".png\") and img.startswith(\"frames\")] # <1>\n",
    "    images = np.sort(images) # <1>\n",
    "\n",
    "    frame = cv2.imread(os.path.join(img_dir, images[0])) # <2>\n",
    "    height, width, layers = frame.shape # <2>\n",
    "\n",
    "    video = cv2.VideoWriter(video_dir + video_name,cv2.VideoWriter_fourcc(*'mp4v'), 10, (width, height)) # <2>\n",
    "\n",
    "    start_time = time.time() # <3>\n",
    "\n",
    "    for img in images: # <4>\n",
    "        frame = cv2.imread(f'{img_dir}{img}') # <4>\n",
    "        video.write(frame) # <4>\n",
    "\n",
    "    end_time = time.time() # <5>\n",
    "    execution_time = end_time - start_time # <5>\n",
    "\n",
    "    print(f\"Total execution time: {execution_time:.2f} seconds\") # <6>\n",
    "\n",
    "    cv2.destroyAllWindows() # <7>\n",
    "    video.release() # <7>"
   ]
  },
  {
   "cell_type": "markdown",
   "id": "4d847b3b-94ac-44c4-a0f2-a3045b79dbc3",
   "metadata": {},
   "source": [
    "1. Generate list of images sorted by name, this is chronological order of timesteps.\n",
    "2. Initialize to first frame.\n",
    "3. Record start time.\n",
    "4. Write each image to video.\n",
    "5. Record end time.\n",
    "6. Print execution time.\n",
    "7. Close applications."
   ]
  },
  {
   "cell_type": "code",
   "execution_count": null,
   "id": "845710ca-94ad-493a-9316-5f749655e1d0",
   "metadata": {},
   "outputs": [],
   "source": [
    "idx_image_folder = '/usr/sci/scratch_nvme/arleth/dump/idx_frames/' # <1>\n",
    "idx_video_folder = '/usr/sci/scratch_nvme/arleth/dump/videos/' # <1>\n",
    "idx_vid_name = 'idx_video_7_10_24.mp4' # <1>\n",
    "\n",
    "netcdf_image_folder = '/usr/sci/scratch_nvme/arleth/dump/netcdf_frames/' # <2>\n",
    "netcdf_video_folder = '/usr/sci/scratch_nvme/arleth/dump/videos/' # <2>\n",
    "netcdf_vid_name = 'netcdf_video_7_10_24.mp4' # <2>"
   ]
  },
  {
   "cell_type": "markdown",
   "id": "5afe9e9e-028f-4d80-b8ee-25ccf961f799",
   "metadata": {},
   "source": [
    "1. Directories to IDX .PNGs and video name.\n",
    "2. Directories to netCDF .PNGs and video name."
   ]
  }
 ],
 "metadata": {
  "kernelspec": {
   "display_name": "Python 3 (ipykernel)",
   "language": "python",
   "name": "python3"
  },
  "language_info": {
   "codemirror_mode": {
    "name": "ipython",
    "version": 3
   },
   "file_extension": ".py",
   "mimetype": "text/x-python",
   "name": "python",
   "nbconvert_exporter": "python",
   "pygments_lexer": "ipython3",
   "version": "3.9.18"
  }
 },
 "nbformat": 4,
 "nbformat_minor": 5
}
