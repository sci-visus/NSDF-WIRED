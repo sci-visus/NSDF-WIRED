{
 "cells": [
  {
   "cell_type": "markdown",
   "id": "4cd4e912",
   "metadata": {},
   "source": [
    "# Rename All\n",
    "Here we rename all downloaded UBC Firesmoke NetCDF files to be `dispersion_{CDATE}_{CTIME}.nc`."
   ]
  },
  {
   "cell_type": "code",
   "execution_count": 1,
   "id": "f1a87c19",
   "metadata": {},
   "outputs": [],
   "source": [
    "## Import libs\n",
    "import xarray as xr\n",
    "import os\n",
    "import shutil"
   ]
  },
  {
   "cell_type": "markdown",
   "id": "8a8bb6c2",
   "metadata": {},
   "source": [
    "## Directories from which to get files"
   ]
  },
  {
   "cell_type": "code",
   "execution_count": null,
   "id": "9f692278",
   "metadata": {},
   "outputs": [],
   "source": [
    "parent_dir = \"/usr/sci/cedmav/data/firesmoke\"\n",
    "bsc00_mar_june = f'{parent_dir}/BSC00CA12-01'\n",
    "bsc06_mar_june = f'{parent_dir}/BSC06CA12-01'\n",
    "bsc12_mar_june = f'{parent_dir}/BSC12CA12-01'\n",
    "bsc18_mar_june = f'{parent_dir}/BSC18CA12-01'\n",
    "bsc00W_mar_june = f'{parent_dir}/BSC00WC04-01'\n",
    "download_4_14 = f'{parent_dir}/download_4-14-2025'\n",
    "download_5_19 = f'{parent_dir}/download_5-19-2025'"
   ]
  },
  {
   "cell_type": "code",
   "execution_count": null,
   "id": "4149c7a0",
   "metadata": {},
   "outputs": [],
   "source": [
    "source_dir = \"/path/to/source\"\n",
    "dest_dir = \"/path/to/destination\"\n",
    "\n",
    "# Make destination directory if it doesn't exist\n",
    "os.makedirs(dest_dir, exist_ok=True)\n",
    "\n",
    "# Get list of .nc files\n",
    "nc_files = sorted(f for f in os.listdir(source_dir) if f.endswith(\".nc\"))\n",
    "\n",
    "# Rename and copy files\n",
    "for i, filename in enumerate(nc_files, start=1):\n",
    "    new_name = f\"renamed_{i:03}.nc\"\n",
    "    src_path = os.path.join(source_dir, filename)\n",
    "    dst_path = os.path.join(dest_dir, new_name)\n",
    "    shutil.copy2(src_path, dst_path)  # use copy2 to preserve metadata\n",
    "\n",
    "print(\"Renaming and copying complete.\")"
   ]
  }
 ],
 "metadata": {
  "kernelspec": {
   "display_name": "wired_env",
   "language": "python",
   "name": "python3"
  },
  "language_info": {
   "codemirror_mode": {
    "name": "ipython",
    "version": 3
   },
   "file_extension": ".py",
   "mimetype": "text/x-python",
   "name": "python",
   "nbconvert_exporter": "python",
   "pygments_lexer": "ipython3",
   "version": "3.9.19"
  }
 },
 "nbformat": 4,
 "nbformat_minor": 5
}
