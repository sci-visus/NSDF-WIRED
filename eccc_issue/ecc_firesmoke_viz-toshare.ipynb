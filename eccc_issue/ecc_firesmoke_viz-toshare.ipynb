{
 "cells": [
  {
   "cell_type": "markdown",
   "id": "4869486a-297b-4b64-b478-e19e9cbbc2ab",
   "metadata": {},
   "source": [
    "# Visualize ECCC and UBC"
   ]
  },
  {
   "cell_type": "markdown",
   "id": "f5955aae-0dc2-4676-a2d1-054a9b383808",
   "metadata": {},
   "source": [
    "## Import libraries and data"
   ]
  },
  {
   "cell_type": "code",
   "execution_count": 1,
   "id": "0a524961-48cf-42d4-9a7c-cef91a8a840d",
   "metadata": {
    "tags": []
   },
   "outputs": [],
   "source": [
    "# for numerical work\n",
    "import numpy as np\n",
    "import itertools\n",
    "# from sklearn.preprocessing import normalize\n",
    "\n",
    "# for accessing file system\n",
    "import os\n",
    "\n",
    "# for loading netcdf files, for metadata\n",
    "import xarray as xr\n",
    "# for connecting OpenVisus framework to xarray\n",
    "# from https://github.com/sci-visus/openvisuspy, \n",
    "from openvisuspy.xarray_backend import OpenVisusBackendEntrypoint\n",
    "\n",
    "# Used for processing netCDF time data\n",
    "import time\n",
    "import datetime\n",
    "import requests\n",
    "# Used for indexing via metadata\n",
    "import pandas as pd\n",
    "\n",
    "# for plotting\n",
    "import matplotlib.pyplot as plt\n",
    "import cartopy.crs as ccrs\n",
    "import folium\n",
    "from folium.plugins import HeatMap\n",
    "\n",
    "#Stores the OpenVisus cache in the local direcrtory \n",
    "import os\n",
    "os.environ[\"VISUS_CACHE\"]=\"./visus_cache_can_be_erased\"\n",
    "os.environ['CURL_CA_BUNDLE'] = ''"
   ]
  },
  {
   "cell_type": "markdown",
   "id": "7939e5be-abc6-4980-b36f-a26f3524c816",
   "metadata": {},
   "source": [
    "### Import UBC data from IDX"
   ]
  },
  {
   "cell_type": "code",
   "execution_count": 2,
   "id": "89417876-7d8e-40d1-acfa-7ccd851c0c9b",
   "metadata": {
    "tags": []
   },
   "outputs": [
    {
     "ename": "FileNotFoundError",
     "evalue": "[Errno 2] No such file or directory: b'/Users/arleth/Research_Work/NSDF-WIRED/eccc_issue/firesmoke_metadata.nc'",
     "output_type": "error",
     "traceback": [
      "\u001b[0;31m---------------------------------------------------------------------------\u001b[0m",
      "\u001b[0;31mKeyError\u001b[0m                                  Traceback (most recent call last)",
      "File \u001b[0;32m~/miniconda3/envs/wired_env/lib/python3.9/site-packages/xarray/backends/file_manager.py:211\u001b[0m, in \u001b[0;36mCachingFileManager._acquire_with_cache_info\u001b[0;34m(self, needs_lock)\u001b[0m\n\u001b[1;32m    210\u001b[0m \u001b[38;5;28;01mtry\u001b[39;00m:\n\u001b[0;32m--> 211\u001b[0m     file \u001b[38;5;241m=\u001b[39m \u001b[38;5;28;43mself\u001b[39;49m\u001b[38;5;241;43m.\u001b[39;49m\u001b[43m_cache\u001b[49m\u001b[43m[\u001b[49m\u001b[38;5;28;43mself\u001b[39;49m\u001b[38;5;241;43m.\u001b[39;49m\u001b[43m_key\u001b[49m\u001b[43m]\u001b[49m\n\u001b[1;32m    212\u001b[0m \u001b[38;5;28;01mexcept\u001b[39;00m \u001b[38;5;167;01mKeyError\u001b[39;00m:\n",
      "File \u001b[0;32m~/miniconda3/envs/wired_env/lib/python3.9/site-packages/xarray/backends/lru_cache.py:56\u001b[0m, in \u001b[0;36mLRUCache.__getitem__\u001b[0;34m(self, key)\u001b[0m\n\u001b[1;32m     55\u001b[0m \u001b[38;5;28;01mwith\u001b[39;00m \u001b[38;5;28mself\u001b[39m\u001b[38;5;241m.\u001b[39m_lock:\n\u001b[0;32m---> 56\u001b[0m     value \u001b[38;5;241m=\u001b[39m \u001b[38;5;28;43mself\u001b[39;49m\u001b[38;5;241;43m.\u001b[39;49m\u001b[43m_cache\u001b[49m\u001b[43m[\u001b[49m\u001b[43mkey\u001b[49m\u001b[43m]\u001b[49m\n\u001b[1;32m     57\u001b[0m     \u001b[38;5;28mself\u001b[39m\u001b[38;5;241m.\u001b[39m_cache\u001b[38;5;241m.\u001b[39mmove_to_end(key)\n",
      "\u001b[0;31mKeyError\u001b[0m: [<class 'netCDF4._netCDF4.Dataset'>, ('/Users/arleth/Research_Work/NSDF-WIRED/eccc_issue/firesmoke_metadata.nc',), 'r', (('clobber', True), ('diskless', False), ('format', 'NETCDF4'), ('persist', False)), '800cb61d-8b1d-4998-a5d6-aa6057ad2566']",
      "\nDuring handling of the above exception, another exception occurred:\n",
      "\u001b[0;31mFileNotFoundError\u001b[0m                         Traceback (most recent call last)",
      "Cell \u001b[0;32mIn[2], line 5\u001b[0m\n\u001b[1;32m      2\u001b[0m local_netcdf \u001b[38;5;241m=\u001b[39m \u001b[38;5;124m'\u001b[39m\u001b[38;5;124mfiresmoke_metadata.nc\u001b[39m\u001b[38;5;124m'\u001b[39m\n\u001b[1;32m      4\u001b[0m \u001b[38;5;66;03m# open tiny netcdf with xarray and OpenVisus backend\u001b[39;00m\n\u001b[0;32m----> 5\u001b[0m ds_idx \u001b[38;5;241m=\u001b[39m \u001b[43mxr\u001b[49m\u001b[38;5;241;43m.\u001b[39;49m\u001b[43mopen_dataset\u001b[49m\u001b[43m(\u001b[49m\u001b[43mlocal_netcdf\u001b[49m\u001b[43m,\u001b[49m\u001b[43m \u001b[49m\u001b[43mengine\u001b[49m\u001b[38;5;241;43m=\u001b[39;49m\u001b[43mOpenVisusBackendEntrypoint\u001b[49m\u001b[43m)\u001b[49m\n",
      "File \u001b[0;32m~/miniconda3/envs/wired_env/lib/python3.9/site-packages/xarray/backends/api.py:588\u001b[0m, in \u001b[0;36mopen_dataset\u001b[0;34m(filename_or_obj, engine, chunks, cache, decode_cf, mask_and_scale, decode_times, decode_timedelta, use_cftime, concat_characters, decode_coords, drop_variables, inline_array, chunked_array_type, from_array_kwargs, backend_kwargs, **kwargs)\u001b[0m\n\u001b[1;32m    576\u001b[0m decoders \u001b[38;5;241m=\u001b[39m _resolve_decoders_kwargs(\n\u001b[1;32m    577\u001b[0m     decode_cf,\n\u001b[1;32m    578\u001b[0m     open_backend_dataset_parameters\u001b[38;5;241m=\u001b[39mbackend\u001b[38;5;241m.\u001b[39mopen_dataset_parameters,\n\u001b[0;32m   (...)\u001b[0m\n\u001b[1;32m    584\u001b[0m     decode_coords\u001b[38;5;241m=\u001b[39mdecode_coords,\n\u001b[1;32m    585\u001b[0m )\n\u001b[1;32m    587\u001b[0m overwrite_encoded_chunks \u001b[38;5;241m=\u001b[39m kwargs\u001b[38;5;241m.\u001b[39mpop(\u001b[38;5;124m\"\u001b[39m\u001b[38;5;124moverwrite_encoded_chunks\u001b[39m\u001b[38;5;124m\"\u001b[39m, \u001b[38;5;28;01mNone\u001b[39;00m)\n\u001b[0;32m--> 588\u001b[0m backend_ds \u001b[38;5;241m=\u001b[39m \u001b[43mbackend\u001b[49m\u001b[38;5;241;43m.\u001b[39;49m\u001b[43mopen_dataset\u001b[49m\u001b[43m(\u001b[49m\n\u001b[1;32m    589\u001b[0m \u001b[43m    \u001b[49m\u001b[43mfilename_or_obj\u001b[49m\u001b[43m,\u001b[49m\n\u001b[1;32m    590\u001b[0m \u001b[43m    \u001b[49m\u001b[43mdrop_variables\u001b[49m\u001b[38;5;241;43m=\u001b[39;49m\u001b[43mdrop_variables\u001b[49m\u001b[43m,\u001b[49m\n\u001b[1;32m    591\u001b[0m \u001b[43m    \u001b[49m\u001b[38;5;241;43m*\u001b[39;49m\u001b[38;5;241;43m*\u001b[39;49m\u001b[43mdecoders\u001b[49m\u001b[43m,\u001b[49m\n\u001b[1;32m    592\u001b[0m \u001b[43m    \u001b[49m\u001b[38;5;241;43m*\u001b[39;49m\u001b[38;5;241;43m*\u001b[39;49m\u001b[43mkwargs\u001b[49m\u001b[43m,\u001b[49m\n\u001b[1;32m    593\u001b[0m \u001b[43m\u001b[49m\u001b[43m)\u001b[49m\n\u001b[1;32m    594\u001b[0m ds \u001b[38;5;241m=\u001b[39m _dataset_from_backend_dataset(\n\u001b[1;32m    595\u001b[0m     backend_ds,\n\u001b[1;32m    596\u001b[0m     filename_or_obj,\n\u001b[0;32m   (...)\u001b[0m\n\u001b[1;32m    606\u001b[0m     \u001b[38;5;241m*\u001b[39m\u001b[38;5;241m*\u001b[39mkwargs,\n\u001b[1;32m    607\u001b[0m )\n\u001b[1;32m    608\u001b[0m \u001b[38;5;28;01mreturn\u001b[39;00m ds\n",
      "File \u001b[0;32m~/miniconda3/envs/wired_env/lib/python3.9/site-packages/openvisuspy/xarray_backend.py:195\u001b[0m, in \u001b[0;36mOpenVisusBackendEntrypoint.open_dataset\u001b[0;34m(self, filename_or_obj, resolution, timesteps, drop_variables, coords, attrs, dims, prefer, **kwargs)\u001b[0m\n\u001b[1;32m    192\u001b[0m \u001b[38;5;28mself\u001b[39m\u001b[38;5;241m.\u001b[39mcoordinates\u001b[38;5;241m=\u001b[39mcoords\n\u001b[1;32m    193\u001b[0m data_vars\u001b[38;5;241m=\u001b[39m{}\n\u001b[0;32m--> 195\u001b[0m ds\u001b[38;5;241m=\u001b[39m\u001b[43mxr\u001b[49m\u001b[38;5;241;43m.\u001b[39;49m\u001b[43mopen_dataset\u001b[49m\u001b[43m(\u001b[49m\u001b[43mfilename_or_obj\u001b[49m\u001b[43m,\u001b[49m\u001b[43mdecode_times\u001b[49m\u001b[38;5;241;43m=\u001b[39;49m\u001b[38;5;28;43;01mFalse\u001b[39;49;00m\u001b[43m,\u001b[49m\u001b[43m \u001b[49m\u001b[38;5;241;43m*\u001b[39;49m\u001b[38;5;241;43m*\u001b[39;49m\u001b[43mkwargs\u001b[49m\u001b[43m)\u001b[49m\n\u001b[1;32m    196\u001b[0m \u001b[38;5;28;01mif\u001b[39;00m drop_variables\u001b[38;5;241m!=\u001b[39m \u001b[38;5;28;01mNone\u001b[39;00m:\n\u001b[1;32m    197\u001b[0m     \u001b[38;5;28;01mfor\u001b[39;00m i \u001b[38;5;129;01min\u001b[39;00m drop_variables:\n",
      "File \u001b[0;32m~/miniconda3/envs/wired_env/lib/python3.9/site-packages/xarray/backends/api.py:588\u001b[0m, in \u001b[0;36mopen_dataset\u001b[0;34m(filename_or_obj, engine, chunks, cache, decode_cf, mask_and_scale, decode_times, decode_timedelta, use_cftime, concat_characters, decode_coords, drop_variables, inline_array, chunked_array_type, from_array_kwargs, backend_kwargs, **kwargs)\u001b[0m\n\u001b[1;32m    576\u001b[0m decoders \u001b[38;5;241m=\u001b[39m _resolve_decoders_kwargs(\n\u001b[1;32m    577\u001b[0m     decode_cf,\n\u001b[1;32m    578\u001b[0m     open_backend_dataset_parameters\u001b[38;5;241m=\u001b[39mbackend\u001b[38;5;241m.\u001b[39mopen_dataset_parameters,\n\u001b[0;32m   (...)\u001b[0m\n\u001b[1;32m    584\u001b[0m     decode_coords\u001b[38;5;241m=\u001b[39mdecode_coords,\n\u001b[1;32m    585\u001b[0m )\n\u001b[1;32m    587\u001b[0m overwrite_encoded_chunks \u001b[38;5;241m=\u001b[39m kwargs\u001b[38;5;241m.\u001b[39mpop(\u001b[38;5;124m\"\u001b[39m\u001b[38;5;124moverwrite_encoded_chunks\u001b[39m\u001b[38;5;124m\"\u001b[39m, \u001b[38;5;28;01mNone\u001b[39;00m)\n\u001b[0;32m--> 588\u001b[0m backend_ds \u001b[38;5;241m=\u001b[39m \u001b[43mbackend\u001b[49m\u001b[38;5;241;43m.\u001b[39;49m\u001b[43mopen_dataset\u001b[49m\u001b[43m(\u001b[49m\n\u001b[1;32m    589\u001b[0m \u001b[43m    \u001b[49m\u001b[43mfilename_or_obj\u001b[49m\u001b[43m,\u001b[49m\n\u001b[1;32m    590\u001b[0m \u001b[43m    \u001b[49m\u001b[43mdrop_variables\u001b[49m\u001b[38;5;241;43m=\u001b[39;49m\u001b[43mdrop_variables\u001b[49m\u001b[43m,\u001b[49m\n\u001b[1;32m    591\u001b[0m \u001b[43m    \u001b[49m\u001b[38;5;241;43m*\u001b[39;49m\u001b[38;5;241;43m*\u001b[39;49m\u001b[43mdecoders\u001b[49m\u001b[43m,\u001b[49m\n\u001b[1;32m    592\u001b[0m \u001b[43m    \u001b[49m\u001b[38;5;241;43m*\u001b[39;49m\u001b[38;5;241;43m*\u001b[39;49m\u001b[43mkwargs\u001b[49m\u001b[43m,\u001b[49m\n\u001b[1;32m    593\u001b[0m \u001b[43m\u001b[49m\u001b[43m)\u001b[49m\n\u001b[1;32m    594\u001b[0m ds \u001b[38;5;241m=\u001b[39m _dataset_from_backend_dataset(\n\u001b[1;32m    595\u001b[0m     backend_ds,\n\u001b[1;32m    596\u001b[0m     filename_or_obj,\n\u001b[0;32m   (...)\u001b[0m\n\u001b[1;32m    606\u001b[0m     \u001b[38;5;241m*\u001b[39m\u001b[38;5;241m*\u001b[39mkwargs,\n\u001b[1;32m    607\u001b[0m )\n\u001b[1;32m    608\u001b[0m \u001b[38;5;28;01mreturn\u001b[39;00m ds\n",
      "File \u001b[0;32m~/miniconda3/envs/wired_env/lib/python3.9/site-packages/xarray/backends/netCDF4_.py:645\u001b[0m, in \u001b[0;36mNetCDF4BackendEntrypoint.open_dataset\u001b[0;34m(self, filename_or_obj, mask_and_scale, decode_times, concat_characters, decode_coords, drop_variables, use_cftime, decode_timedelta, group, mode, format, clobber, diskless, persist, lock, autoclose)\u001b[0m\n\u001b[1;32m    624\u001b[0m \u001b[38;5;28;01mdef\u001b[39;00m \u001b[38;5;21mopen_dataset\u001b[39m(  \u001b[38;5;66;03m# type: ignore[override]  # allow LSP violation, not supporting **kwargs\u001b[39;00m\n\u001b[1;32m    625\u001b[0m     \u001b[38;5;28mself\u001b[39m,\n\u001b[1;32m    626\u001b[0m     filename_or_obj: \u001b[38;5;28mstr\u001b[39m \u001b[38;5;241m|\u001b[39m os\u001b[38;5;241m.\u001b[39mPathLike[Any] \u001b[38;5;241m|\u001b[39m BufferedIOBase \u001b[38;5;241m|\u001b[39m AbstractDataStore,\n\u001b[0;32m   (...)\u001b[0m\n\u001b[1;32m    642\u001b[0m     autoclose\u001b[38;5;241m=\u001b[39m\u001b[38;5;28;01mFalse\u001b[39;00m,\n\u001b[1;32m    643\u001b[0m ) \u001b[38;5;241m-\u001b[39m\u001b[38;5;241m>\u001b[39m Dataset:\n\u001b[1;32m    644\u001b[0m     filename_or_obj \u001b[38;5;241m=\u001b[39m _normalize_path(filename_or_obj)\n\u001b[0;32m--> 645\u001b[0m     store \u001b[38;5;241m=\u001b[39m \u001b[43mNetCDF4DataStore\u001b[49m\u001b[38;5;241;43m.\u001b[39;49m\u001b[43mopen\u001b[49m\u001b[43m(\u001b[49m\n\u001b[1;32m    646\u001b[0m \u001b[43m        \u001b[49m\u001b[43mfilename_or_obj\u001b[49m\u001b[43m,\u001b[49m\n\u001b[1;32m    647\u001b[0m \u001b[43m        \u001b[49m\u001b[43mmode\u001b[49m\u001b[38;5;241;43m=\u001b[39;49m\u001b[43mmode\u001b[49m\u001b[43m,\u001b[49m\n\u001b[1;32m    648\u001b[0m \u001b[43m        \u001b[49m\u001b[38;5;28;43mformat\u001b[39;49m\u001b[38;5;241;43m=\u001b[39;49m\u001b[38;5;28;43mformat\u001b[39;49m\u001b[43m,\u001b[49m\n\u001b[1;32m    649\u001b[0m \u001b[43m        \u001b[49m\u001b[43mgroup\u001b[49m\u001b[38;5;241;43m=\u001b[39;49m\u001b[43mgroup\u001b[49m\u001b[43m,\u001b[49m\n\u001b[1;32m    650\u001b[0m \u001b[43m        \u001b[49m\u001b[43mclobber\u001b[49m\u001b[38;5;241;43m=\u001b[39;49m\u001b[43mclobber\u001b[49m\u001b[43m,\u001b[49m\n\u001b[1;32m    651\u001b[0m \u001b[43m        \u001b[49m\u001b[43mdiskless\u001b[49m\u001b[38;5;241;43m=\u001b[39;49m\u001b[43mdiskless\u001b[49m\u001b[43m,\u001b[49m\n\u001b[1;32m    652\u001b[0m \u001b[43m        \u001b[49m\u001b[43mpersist\u001b[49m\u001b[38;5;241;43m=\u001b[39;49m\u001b[43mpersist\u001b[49m\u001b[43m,\u001b[49m\n\u001b[1;32m    653\u001b[0m \u001b[43m        \u001b[49m\u001b[43mlock\u001b[49m\u001b[38;5;241;43m=\u001b[39;49m\u001b[43mlock\u001b[49m\u001b[43m,\u001b[49m\n\u001b[1;32m    654\u001b[0m \u001b[43m        \u001b[49m\u001b[43mautoclose\u001b[49m\u001b[38;5;241;43m=\u001b[39;49m\u001b[43mautoclose\u001b[49m\u001b[43m,\u001b[49m\n\u001b[1;32m    655\u001b[0m \u001b[43m    \u001b[49m\u001b[43m)\u001b[49m\n\u001b[1;32m    657\u001b[0m     store_entrypoint \u001b[38;5;241m=\u001b[39m StoreBackendEntrypoint()\n\u001b[1;32m    658\u001b[0m     \u001b[38;5;28;01mwith\u001b[39;00m close_on_error(store):\n",
      "File \u001b[0;32m~/miniconda3/envs/wired_env/lib/python3.9/site-packages/xarray/backends/netCDF4_.py:408\u001b[0m, in \u001b[0;36mNetCDF4DataStore.open\u001b[0;34m(cls, filename, mode, format, group, clobber, diskless, persist, lock, lock_maker, autoclose)\u001b[0m\n\u001b[1;32m    402\u001b[0m kwargs \u001b[38;5;241m=\u001b[39m \u001b[38;5;28mdict\u001b[39m(\n\u001b[1;32m    403\u001b[0m     clobber\u001b[38;5;241m=\u001b[39mclobber, diskless\u001b[38;5;241m=\u001b[39mdiskless, persist\u001b[38;5;241m=\u001b[39mpersist, \u001b[38;5;28mformat\u001b[39m\u001b[38;5;241m=\u001b[39m\u001b[38;5;28mformat\u001b[39m\n\u001b[1;32m    404\u001b[0m )\n\u001b[1;32m    405\u001b[0m manager \u001b[38;5;241m=\u001b[39m CachingFileManager(\n\u001b[1;32m    406\u001b[0m     netCDF4\u001b[38;5;241m.\u001b[39mDataset, filename, mode\u001b[38;5;241m=\u001b[39mmode, kwargs\u001b[38;5;241m=\u001b[39mkwargs\n\u001b[1;32m    407\u001b[0m )\n\u001b[0;32m--> 408\u001b[0m \u001b[38;5;28;01mreturn\u001b[39;00m \u001b[38;5;28;43mcls\u001b[39;49m\u001b[43m(\u001b[49m\u001b[43mmanager\u001b[49m\u001b[43m,\u001b[49m\u001b[43m \u001b[49m\u001b[43mgroup\u001b[49m\u001b[38;5;241;43m=\u001b[39;49m\u001b[43mgroup\u001b[49m\u001b[43m,\u001b[49m\u001b[43m \u001b[49m\u001b[43mmode\u001b[49m\u001b[38;5;241;43m=\u001b[39;49m\u001b[43mmode\u001b[49m\u001b[43m,\u001b[49m\u001b[43m \u001b[49m\u001b[43mlock\u001b[49m\u001b[38;5;241;43m=\u001b[39;49m\u001b[43mlock\u001b[49m\u001b[43m,\u001b[49m\u001b[43m \u001b[49m\u001b[43mautoclose\u001b[49m\u001b[38;5;241;43m=\u001b[39;49m\u001b[43mautoclose\u001b[49m\u001b[43m)\u001b[49m\n",
      "File \u001b[0;32m~/miniconda3/envs/wired_env/lib/python3.9/site-packages/xarray/backends/netCDF4_.py:355\u001b[0m, in \u001b[0;36mNetCDF4DataStore.__init__\u001b[0;34m(self, manager, group, mode, lock, autoclose)\u001b[0m\n\u001b[1;32m    353\u001b[0m \u001b[38;5;28mself\u001b[39m\u001b[38;5;241m.\u001b[39m_group \u001b[38;5;241m=\u001b[39m group\n\u001b[1;32m    354\u001b[0m \u001b[38;5;28mself\u001b[39m\u001b[38;5;241m.\u001b[39m_mode \u001b[38;5;241m=\u001b[39m mode\n\u001b[0;32m--> 355\u001b[0m \u001b[38;5;28mself\u001b[39m\u001b[38;5;241m.\u001b[39mformat \u001b[38;5;241m=\u001b[39m \u001b[38;5;28;43mself\u001b[39;49m\u001b[38;5;241;43m.\u001b[39;49m\u001b[43mds\u001b[49m\u001b[38;5;241m.\u001b[39mdata_model\n\u001b[1;32m    356\u001b[0m \u001b[38;5;28mself\u001b[39m\u001b[38;5;241m.\u001b[39m_filename \u001b[38;5;241m=\u001b[39m \u001b[38;5;28mself\u001b[39m\u001b[38;5;241m.\u001b[39mds\u001b[38;5;241m.\u001b[39mfilepath()\n\u001b[1;32m    357\u001b[0m \u001b[38;5;28mself\u001b[39m\u001b[38;5;241m.\u001b[39mis_remote \u001b[38;5;241m=\u001b[39m is_remote_uri(\u001b[38;5;28mself\u001b[39m\u001b[38;5;241m.\u001b[39m_filename)\n",
      "File \u001b[0;32m~/miniconda3/envs/wired_env/lib/python3.9/site-packages/xarray/backends/netCDF4_.py:417\u001b[0m, in \u001b[0;36mNetCDF4DataStore.ds\u001b[0;34m(self)\u001b[0m\n\u001b[1;32m    415\u001b[0m \u001b[38;5;129m@property\u001b[39m\n\u001b[1;32m    416\u001b[0m \u001b[38;5;28;01mdef\u001b[39;00m \u001b[38;5;21mds\u001b[39m(\u001b[38;5;28mself\u001b[39m):\n\u001b[0;32m--> 417\u001b[0m     \u001b[38;5;28;01mreturn\u001b[39;00m \u001b[38;5;28;43mself\u001b[39;49m\u001b[38;5;241;43m.\u001b[39;49m\u001b[43m_acquire\u001b[49m\u001b[43m(\u001b[49m\u001b[43m)\u001b[49m\n",
      "File \u001b[0;32m~/miniconda3/envs/wired_env/lib/python3.9/site-packages/xarray/backends/netCDF4_.py:411\u001b[0m, in \u001b[0;36mNetCDF4DataStore._acquire\u001b[0;34m(self, needs_lock)\u001b[0m\n\u001b[1;32m    410\u001b[0m \u001b[38;5;28;01mdef\u001b[39;00m \u001b[38;5;21m_acquire\u001b[39m(\u001b[38;5;28mself\u001b[39m, needs_lock\u001b[38;5;241m=\u001b[39m\u001b[38;5;28;01mTrue\u001b[39;00m):\n\u001b[0;32m--> 411\u001b[0m     \u001b[38;5;28;01mwith\u001b[39;00m \u001b[38;5;28mself\u001b[39m\u001b[38;5;241m.\u001b[39m_manager\u001b[38;5;241m.\u001b[39macquire_context(needs_lock) \u001b[38;5;28;01mas\u001b[39;00m root:\n\u001b[1;32m    412\u001b[0m         ds \u001b[38;5;241m=\u001b[39m _nc4_require_group(root, \u001b[38;5;28mself\u001b[39m\u001b[38;5;241m.\u001b[39m_group, \u001b[38;5;28mself\u001b[39m\u001b[38;5;241m.\u001b[39m_mode)\n\u001b[1;32m    413\u001b[0m     \u001b[38;5;28;01mreturn\u001b[39;00m ds\n",
      "File \u001b[0;32m~/miniconda3/envs/wired_env/lib/python3.9/contextlib.py:119\u001b[0m, in \u001b[0;36m_GeneratorContextManager.__enter__\u001b[0;34m(self)\u001b[0m\n\u001b[1;32m    117\u001b[0m \u001b[38;5;28;01mdel\u001b[39;00m \u001b[38;5;28mself\u001b[39m\u001b[38;5;241m.\u001b[39margs, \u001b[38;5;28mself\u001b[39m\u001b[38;5;241m.\u001b[39mkwds, \u001b[38;5;28mself\u001b[39m\u001b[38;5;241m.\u001b[39mfunc\n\u001b[1;32m    118\u001b[0m \u001b[38;5;28;01mtry\u001b[39;00m:\n\u001b[0;32m--> 119\u001b[0m     \u001b[38;5;28;01mreturn\u001b[39;00m \u001b[38;5;28;43mnext\u001b[39;49m\u001b[43m(\u001b[49m\u001b[38;5;28;43mself\u001b[39;49m\u001b[38;5;241;43m.\u001b[39;49m\u001b[43mgen\u001b[49m\u001b[43m)\u001b[49m\n\u001b[1;32m    120\u001b[0m \u001b[38;5;28;01mexcept\u001b[39;00m \u001b[38;5;167;01mStopIteration\u001b[39;00m:\n\u001b[1;32m    121\u001b[0m     \u001b[38;5;28;01mraise\u001b[39;00m \u001b[38;5;167;01mRuntimeError\u001b[39;00m(\u001b[38;5;124m\"\u001b[39m\u001b[38;5;124mgenerator didn\u001b[39m\u001b[38;5;124m'\u001b[39m\u001b[38;5;124mt yield\u001b[39m\u001b[38;5;124m\"\u001b[39m) \u001b[38;5;28;01mfrom\u001b[39;00m \u001b[38;5;28;01mNone\u001b[39;00m\n",
      "File \u001b[0;32m~/miniconda3/envs/wired_env/lib/python3.9/site-packages/xarray/backends/file_manager.py:199\u001b[0m, in \u001b[0;36mCachingFileManager.acquire_context\u001b[0;34m(self, needs_lock)\u001b[0m\n\u001b[1;32m    196\u001b[0m \u001b[38;5;129m@contextlib\u001b[39m\u001b[38;5;241m.\u001b[39mcontextmanager\n\u001b[1;32m    197\u001b[0m \u001b[38;5;28;01mdef\u001b[39;00m \u001b[38;5;21macquire_context\u001b[39m(\u001b[38;5;28mself\u001b[39m, needs_lock\u001b[38;5;241m=\u001b[39m\u001b[38;5;28;01mTrue\u001b[39;00m):\n\u001b[1;32m    198\u001b[0m \u001b[38;5;250m    \u001b[39m\u001b[38;5;124;03m\"\"\"Context manager for acquiring a file.\"\"\"\u001b[39;00m\n\u001b[0;32m--> 199\u001b[0m     file, cached \u001b[38;5;241m=\u001b[39m \u001b[38;5;28;43mself\u001b[39;49m\u001b[38;5;241;43m.\u001b[39;49m\u001b[43m_acquire_with_cache_info\u001b[49m\u001b[43m(\u001b[49m\u001b[43mneeds_lock\u001b[49m\u001b[43m)\u001b[49m\n\u001b[1;32m    200\u001b[0m     \u001b[38;5;28;01mtry\u001b[39;00m:\n\u001b[1;32m    201\u001b[0m         \u001b[38;5;28;01myield\u001b[39;00m file\n",
      "File \u001b[0;32m~/miniconda3/envs/wired_env/lib/python3.9/site-packages/xarray/backends/file_manager.py:217\u001b[0m, in \u001b[0;36mCachingFileManager._acquire_with_cache_info\u001b[0;34m(self, needs_lock)\u001b[0m\n\u001b[1;32m    215\u001b[0m     kwargs \u001b[38;5;241m=\u001b[39m kwargs\u001b[38;5;241m.\u001b[39mcopy()\n\u001b[1;32m    216\u001b[0m     kwargs[\u001b[38;5;124m\"\u001b[39m\u001b[38;5;124mmode\u001b[39m\u001b[38;5;124m\"\u001b[39m] \u001b[38;5;241m=\u001b[39m \u001b[38;5;28mself\u001b[39m\u001b[38;5;241m.\u001b[39m_mode\n\u001b[0;32m--> 217\u001b[0m file \u001b[38;5;241m=\u001b[39m \u001b[38;5;28;43mself\u001b[39;49m\u001b[38;5;241;43m.\u001b[39;49m\u001b[43m_opener\u001b[49m\u001b[43m(\u001b[49m\u001b[38;5;241;43m*\u001b[39;49m\u001b[38;5;28;43mself\u001b[39;49m\u001b[38;5;241;43m.\u001b[39;49m\u001b[43m_args\u001b[49m\u001b[43m,\u001b[49m\u001b[43m \u001b[49m\u001b[38;5;241;43m*\u001b[39;49m\u001b[38;5;241;43m*\u001b[39;49m\u001b[43mkwargs\u001b[49m\u001b[43m)\u001b[49m\n\u001b[1;32m    218\u001b[0m \u001b[38;5;28;01mif\u001b[39;00m \u001b[38;5;28mself\u001b[39m\u001b[38;5;241m.\u001b[39m_mode \u001b[38;5;241m==\u001b[39m \u001b[38;5;124m\"\u001b[39m\u001b[38;5;124mw\u001b[39m\u001b[38;5;124m\"\u001b[39m:\n\u001b[1;32m    219\u001b[0m     \u001b[38;5;66;03m# ensure file doesn't get overridden when opened again\u001b[39;00m\n\u001b[1;32m    220\u001b[0m     \u001b[38;5;28mself\u001b[39m\u001b[38;5;241m.\u001b[39m_mode \u001b[38;5;241m=\u001b[39m \u001b[38;5;124m\"\u001b[39m\u001b[38;5;124ma\u001b[39m\u001b[38;5;124m\"\u001b[39m\n",
      "File \u001b[0;32msrc/netCDF4/_netCDF4.pyx:2463\u001b[0m, in \u001b[0;36mnetCDF4._netCDF4.Dataset.__init__\u001b[0;34m()\u001b[0m\n",
      "File \u001b[0;32msrc/netCDF4/_netCDF4.pyx:2026\u001b[0m, in \u001b[0;36mnetCDF4._netCDF4._ensure_nc_success\u001b[0;34m()\u001b[0m\n",
      "\u001b[0;31mFileNotFoundError\u001b[0m: [Errno 2] No such file or directory: b'/Users/arleth/Research_Work/NSDF-WIRED/eccc_issue/firesmoke_metadata.nc'"
     ]
    }
   ],
   "source": [
    "# path to tiny NetCDF: 'https://github.com/sci-visus/NSDF-WIRED/raw/main/data/firesmoke_metadata.nc'\n",
    "local_netcdf = 'firesmoke_metadata.nc'\n",
    "    \n",
    "# open tiny netcdf with xarray and OpenVisus backend\n",
    "ds_idx = xr.open_dataset(local_netcdf, engine=OpenVisusBackendEntrypoint)"
   ]
  },
  {
   "cell_type": "markdown",
   "id": "3a71810f-376e-4566-8a9d-5164cf5a2410",
   "metadata": {},
   "source": [
    "### Compute metadata for IDX dataset"
   ]
  },
  {
   "cell_type": "code",
   "execution_count": null,
   "id": "fee148dd-7c15-4115-80b2-3f6053038b45",
   "metadata": {
    "tags": []
   },
   "outputs": [],
   "source": [
    "# for parsing time flags (TFLAG) from netcdf files\n",
    "def parse_tflag(tflag):\n",
    "    year = int(tflag[0] // 1000)\n",
    "    day_of_year = int(tflag[0] % 1000)\n",
    "    date = datetime.datetime(year, 1, 1) + datetime.timedelta(days=day_of_year - 1)\n",
    "\n",
    "    time_in_day = int(tflag[1])\n",
    "    hours = time_in_day // 10000\n",
    "    minutes = (time_in_day % 10000) // 100\n",
    "    seconds = time_in_day % 100\n",
    "\n",
    "    full_datetime = datetime.datetime(year, date.month, date.day, hours, minutes, seconds)\n",
    "    return full_datetime"
   ]
  },
  {
   "cell_type": "code",
   "execution_count": null,
   "id": "e90fefed-28a0-4e58-98d4-cca1691a1c85",
   "metadata": {},
   "outputs": [],
   "source": [
    "# Get metadata to compute lon and lat\n",
    "xorig = ds_idx.XORIG\n",
    "yorig = ds_idx.YORIG\n",
    "xcell = ds_idx.XCELL\n",
    "ycell = ds_idx.YCELL\n",
    "ncols = ds_idx.NCOLS\n",
    "nrows = ds_idx.NROWS\n",
    "\n",
    "longitude = np.linspace(xorig, xorig + xcell * (ncols - 1), ncols)\n",
    "latitude = np.linspace(yorig, yorig + ycell * (nrows - 1), nrows)\n",
    "\n",
    "# Create coordinates for lat and lon\n",
    "ds_idx.coords['lat'] = ('ROW', latitude)\n",
    "ds_idx.coords['lon'] = ('COL', longitude)\n",
    "\n",
    "# Replace col and row dimensions with newly calculated lon and lat arrays (credit: Aashish Panta)\n",
    "ds_idx = ds_idx.swap_dims({'COL': 'lon', 'ROW': 'lat'})"
   ]
  },
  {
   "cell_type": "code",
   "execution_count": null,
   "id": "bd03c0da-1faa-4488-8973-26602747ca83",
   "metadata": {},
   "outputs": [],
   "source": [
    "# get all tflags\n",
    "tflag_values = ds_idx['TFLAG'].values\n",
    "\n",
    "# to store pandas timestamps\n",
    "timestamps = []\n",
    "\n",
    "# convert all tflags to pandas timestamps, store in timestamps list\n",
    "for tflag in tflag_values:\n",
    "    timestamps.append(pd.Timestamp(parse_tflag(tflag[0])))\n",
    "\n",
    "# set coordinates to each timestep with these pandas timestamps\n",
    "ds_idx.coords['time'] = ('time', timestamps)"
   ]
  },
  {
   "cell_type": "markdown",
   "id": "90a95a50-6a0e-4e8b-8a71-0f6b3d1af8d6",
   "metadata": {},
   "source": [
    "### Import ECCC 2021 and 2022 Data"
   ]
  },
  {
   "cell_type": "code",
   "execution_count": null,
   "id": "003ccb51-97c1-4c5a-a893-3bc53dcf3312",
   "metadata": {},
   "outputs": [],
   "source": [
    "# read from CSV, skip first 7 rows of non-data info\n",
    "skiprows = [0,1,2,3,4,5,6]\n",
    "df_2021 = pd.read_csv('PM25_2021.csv', skiprows=skiprows)\n",
    "df_2022 = pd.read_csv('PM25_2022.csv', skiprows=skiprows)\n",
    "\n",
    "# combine into 1 dataframe\n",
    "df_eccc = pd.concat([df_2021, df_2022])"
   ]
  },
  {
   "cell_type": "markdown",
   "id": "a81eb8ba-2720-49b5-ab43-ef7b2ce5e642",
   "metadata": {},
   "source": [
    "### Data Cleaning\n",
    "1. drop unused columns\n",
    "2. convert dates to pandas timestamp datatype\n",
    "3. make each hour header to a pandas timestamp datatype for easier processing"
   ]
  },
  {
   "cell_type": "code",
   "execution_count": null,
   "id": "d12a7972-4ff2-4f80-9fdb-4ee9f92cd020",
   "metadata": {
    "tags": []
   },
   "outputs": [],
   "source": [
    "# names of columns in CSV to drop\n",
    "cols_to_drop = ['Province/Territory//Province/Territoire', 'Pollutant//Polluant', 'Method Code//Code Méthode', \n",
    "                'NAPS ID//Identifiant SNPA', 'City//Ville']\n",
    "\n",
    "# drop the columns\n",
    "df_eccc.drop(cols_to_drop, axis=1, inplace=True)\n",
    "\n",
    "# set -999 to NaN, then drop all NaNs\n",
    "df_eccc = df_eccc.replace(-999, np.NaN)\n",
    "df_eccc = df_eccc.dropna()\n",
    "\n",
    "# change hours to just an integer\n",
    "new_names = dict(zip(df_eccc.columns.tolist()[3:27], np.arange(24)))\n",
    "df_eccc = df_eccc.rename(columns=new_names)\n",
    "\n",
    "# convert column to be dates of pandas timestamp datatype\n",
    "df_eccc['Date//Date'] = pd.to_datetime(df_eccc['Date//Date'])\n",
    "df_eccc.head()"
   ]
  },
  {
   "cell_type": "markdown",
   "id": "03bcef4b-7915-4113-a28e-387f9ee155a2",
   "metadata": {},
   "source": [
    "---"
   ]
  },
  {
   "cell_type": "markdown",
   "id": "cef70efa-5b98-4c14-95b8-7867c28d6d54",
   "metadata": {},
   "source": [
    "## Select date to visualize (non-timeseries visualization)\n",
    "Change `curr_date` to the date you would like to see"
   ]
  },
  {
   "cell_type": "code",
   "execution_count": null,
   "id": "ed8d6333-aa3a-4e00-8379-c961dbc3ba97",
   "metadata": {
    "tags": []
   },
   "outputs": [],
   "source": [
    "# the date ranges we wanna see\n",
    "curr_date = pd.Timestamp(year=2021, month=7, day=1, hour=0)\n",
    "\n",
    "# folium (visual) parameters\n",
    "static_r = 4 # radius\n",
    "static_b = 3 # blur\n",
    "map_start = [51, -106] # start in canada\n",
    "z = 4"
   ]
  },
  {
   "cell_type": "markdown",
   "id": "aa85dc5e-f022-48dc-aaac-51822b927278",
   "metadata": {},
   "source": [
    "### Plot ECCC Smoke Emissions (static)"
   ]
  },
  {
   "cell_type": "code",
   "execution_count": null,
   "id": "dead546e-0b4c-49d0-a323-d4b202d6d5cb",
   "metadata": {
    "tags": []
   },
   "outputs": [],
   "source": [
    "# get values for curr_date\n",
    "# date_cond = df_eccc['Date//Date'].astype(str) == np.datetime64(curr_date).astype(str)[0:10]\n",
    "date_cond = df_eccc['Date//Date'] == curr_date\n",
    "df_curr_date = df_eccc[date_cond]\n",
    "\n",
    "# use only non NaN data\n",
    "eccc_data = df_curr_date[['Latitude//Latitude', 'Longitude//Longitude', curr_date.hour]]\n",
    "np.shape(eccc_data.values)"
   ]
  },
  {
   "cell_type": "code",
   "execution_count": null,
   "id": "8fbd1d01-380c-456e-8e24-532a766c1072",
   "metadata": {
    "tags": []
   },
   "outputs": [],
   "source": [
    "# Initialize map to Calgary's lat and lon (as in firesmoke.ca)\n",
    "eccc_m = folium.Map(map_start, zoom_start=z)\n",
    "\n",
    "# Create a HeatMap layer with custom intensity parameters\n",
    "HeatMap(\n",
    "    eccc_data,\n",
    "    radius=static_r,\n",
    "    blur=static_b,\n",
    ").add_to(eccc_m)\n",
    "\n",
    "# Display the map\n",
    "eccc_m"
   ]
  },
  {
   "cell_type": "markdown",
   "id": "f3752111-7b56-4783-9639-9b0d67b4f8c0",
   "metadata": {},
   "source": [
    "### Plot IDX Smoke Emissions (static)"
   ]
  },
  {
   "cell_type": "code",
   "execution_count": null,
   "id": "72c9e343-be4d-48c8-a317-5084d95ffe92",
   "metadata": {
    "collapsed": true,
    "jupyter": {
     "outputs_hidden": true
    },
    "tags": []
   },
   "outputs": [],
   "source": [
    "# get lats and lons used in ECCC data\n",
    "eccc_lats = eccc_data['Latitude//Latitude'].values\n",
    "eccc_lons = eccc_data['Longitude//Longitude'].values\n",
    "\n",
    "# desired resolution\n",
    "data_resolution = 0\n",
    "\n",
    "# find nearest lat,lon values in idx to eccc lat,lon values\n",
    "ds_curr_date = ds_idx.loc[dict(time=curr_date, resolution=data_resolution)].sel(\n",
    "    lat=eccc_lats, lon=eccc_lons, method='nearest')\n",
    "\n",
    "# loop thru the coords, populate array with coord vals and pm25 vals\n",
    "idx_coords = np.column_stack([ds_curr_date.lat.values, ds_curr_date.lon.values])\n",
    "\n",
    "# init arr to hold points of interest\n",
    "idx_data = []\n",
    "\n",
    "for c in range(len(idx_coords)):\n",
    "    # get curr vals\n",
    "    lat = idx_coords[c][0]\n",
    "    lon = idx_coords[c][1]\n",
    "\n",
    "    # i think it returns an error if there's no value there\n",
    "    try:\n",
    "        val = ds_idx['PM25'].sel(time=curr_date, lat=lat, \n",
    "            lon=lon, resolution=data_resolution).values\n",
    "        # populate with lat, lon, and PM25 value\n",
    "        idx_data.append([lat, lon, float(val)])\n",
    "    except:\n",
    "        print(f'failed at {lat}, {lon}')"
   ]
  },
  {
   "cell_type": "markdown",
   "id": "b905f444-3552-42cd-b89d-252b0bf62e35",
   "metadata": {},
   "source": [
    "there may be a better way to index for values instead of querying for each lat,lon"
   ]
  },
  {
   "cell_type": "code",
   "execution_count": null,
   "id": "d3e5dd70-7944-4165-9c03-6ee2cece7e2a",
   "metadata": {
    "tags": []
   },
   "outputs": [],
   "source": [
    "# Initialize map to Calgary's lat and lon (as in firesmoke.ca)\n",
    "idx_map = folium.Map(map_start, zoom_start=z)\n",
    "\n",
    "# Create a HeatMap layer with custom intensity parameters\n",
    "HeatMap(\n",
    "    idx_data,\n",
    "    radius=static_r,\n",
    "    blur=static_b,\n",
    ").add_to(idx_map)\n",
    "\n",
    "# Display the map\n",
    "idx_map"
   ]
  },
  {
   "cell_type": "markdown",
   "id": "7fd05c1c-9a7a-4b31-af43-dd406bc1b460",
   "metadata": {},
   "source": [
    "---"
   ]
  },
  {
   "cell_type": "markdown",
   "id": "37195bab-289b-4bf2-84d9-abd9198176b7",
   "metadata": {},
   "source": [
    "## Select dates to visualize (timeseries)\n",
    "Change `first_date` and `last_date` to the date range you would like to see.\n",
    "\n",
    "**Note**: If the date range is more than a few days, visualization takes a long time to produce."
   ]
  },
  {
   "cell_type": "code",
   "execution_count": null,
   "id": "cbc6fca0-bd7f-4833-b0bb-a7b9c93065a7",
   "metadata": {},
   "outputs": [],
   "source": [
    "# the date ranges we wanna see\n",
    "first_date = pd.Timestamp(year=2021, month=7, day=1, hour=0)\n",
    "last_date = pd.Timestamp(year=2021, month=7, day=2, hour=5)\n",
    "\n",
    "# desired time(s)\n",
    "time_slice = slice(curr_date,last_date)\n",
    "time_delta = int((last_date-curr_date).total_seconds() / 60 / 60) + 1 # hours represented\n",
    "\n",
    "# the date ranges we wanna see\n",
    "curr_date = pd.Timestamp(year=2021, month=7, day=1, hour=0)\n",
    "\n",
    "# folium customization\n",
    "map_start = [51, -106] # start in canada\n",
    "z = 4\n",
    "\n",
    "print(f'With these parameters {time_delta} hours will be visualized')"
   ]
  },
  {
   "cell_type": "code",
   "execution_count": null,
   "id": "b708cc76-ac9c-4fc4-90d5-67f5af5c608c",
   "metadata": {
    "tags": []
   },
   "outputs": [],
   "source": [
    "def normalize(arr):\n",
    "    '''\n",
    "    normalize all values in given array to be between 0 and 1\n",
    "        using min and max of entire array\n",
    "    ref: https://www.codecademy.com/article/normalization\n",
    "    '''\n",
    "    # get min and max\n",
    "    min_val = np.min(arr)\n",
    "    max_val = np.max(arr)\n",
    "    \n",
    "    # perform normalization\n",
    "    norm_arr = (arr - min_val) / (max_val - min_val)\n",
    "    \n",
    "    return norm_arr"
   ]
  },
  {
   "cell_type": "markdown",
   "id": "447c292b-ea12-41ce-9a34-d7a8c5077c58",
   "metadata": {},
   "source": [
    "Set this to 1 to normalize or 0 to skip"
   ]
  },
  {
   "cell_type": "code",
   "execution_count": null,
   "id": "781994a7-9c97-4aaf-9be2-b631702e01f2",
   "metadata": {
    "tags": []
   },
   "outputs": [],
   "source": [
    "normalize_data = 1"
   ]
  },
  {
   "cell_type": "markdown",
   "id": "79409354-828e-4900-a4e0-29bf3cb46a40",
   "metadata": {
    "tags": []
   },
   "source": [
    "### Plot ECCC Smoke Emissions over time"
   ]
  },
  {
   "cell_type": "code",
   "execution_count": null,
   "id": "7a378e57-1fe5-4351-85e7-c19073125ef4",
   "metadata": {
    "tags": []
   },
   "outputs": [],
   "source": [
    "# get rows that are within desired time range\n",
    "date_cond = (df_eccc['Date//Date'] <= last_date) & (df_eccc['Date//Date'] >= curr_date)\n",
    "df_eccc_time = df_eccc[date_cond]\n",
    "\n",
    "num_coords = len(df_eccc_time['Latitude//Latitude'])\n",
    "\n",
    "# init arr to hold time steps and the lats, lons, vals at each timestep\n",
    "eccc_time_data = np.zeros((time_delta, num_coords, 3))\n",
    "\n",
    "# populate array with coordinate data\n",
    "eccc_time_data[:,:,0] = df_eccc_time['Latitude//Latitude'].values\n",
    "eccc_time_data[:,:,1] = df_eccc_time['Longitude//Longitude'].values\n",
    "\n",
    "# we will loop through each hour\n",
    "d = pd.to_timedelta(1, unit='h')\n",
    "tstep = 0\n",
    "tmp_date = curr_date\n",
    "\n",
    "# loop through each hour\n",
    "while tmp_date < last_date:\n",
    "    # date to select\n",
    "    date_cond = df_eccc_time['Date//Date'] == pd.Timestamp(day=tmp_date.day, month=tmp_date.month, year=tmp_date.year)\n",
    "    \n",
    "    # for each coordinate, get value at current time step\n",
    "    for c in range(num_coords):\n",
    "        try:\n",
    "            # filter to get values for given date and lat,lon\n",
    "            lat = eccc_time_data[0,:,0][c]\n",
    "            lon = eccc_time_data[0,:,1][c]\n",
    "            lat_lon_cond = (df_eccc_time['Latitude//Latitude'] == lat) & (df_eccc_time['Longitude//Longitude'] == lon)\n",
    "            \n",
    "            # get PM2.5 value for this date and hour\n",
    "            df_latlon = df_eccc_time[lat_lon_cond & date_cond]\n",
    "            eccc_time_data[tstep, c, 2] = df_latlon[tmp_date.hour].values[0]\n",
    "        except:\n",
    "            continue\n",
    "            # print(f'failed for {tmp_date}, {lat}, {lon}')\n",
    "\n",
    "    tmp_date += d\n",
    "    tstep += 1\n",
    "    \n",
    "    # print progress of stepping through timesteps\n",
    "    if tstep % 2 == 0:\n",
    "        print('.', end='', flush=True)\n",
    "\n",
    "# normalize smoke readings across all timesteps and coordinates\n",
    "if normalize_data:\n",
    "    eccc_time_data[:, :, 2] = normalize(eccc_time_data[:, :, 2])"
   ]
  },
  {
   "cell_type": "code",
   "execution_count": null,
   "id": "06928f51-c4c3-4e53-9201-6ddb9716b292",
   "metadata": {
    "tags": []
   },
   "outputs": [],
   "source": [
    "np.max(eccc_time_data[:, :, 2])"
   ]
  },
  {
   "cell_type": "code",
   "execution_count": null,
   "id": "aea0b318-dc89-4926-84b3-85445b404b82",
   "metadata": {
    "tags": []
   },
   "outputs": [],
   "source": [
    "eccc_time_map = folium.Map([51, -106], zoom_start=4)\n",
    "\n",
    "# data needs to be in list format\n",
    "# ref: https://stackoverflow.com/questions/75330933/folium-heatmapwithtime-html-file-generated-is-blank\n",
    "eccc_time_hm = folium.plugins.HeatMapWithTime(eccc_time_data.tolist(), radius=20,\n",
    "    blur=1, auto_play=True)\n",
    "\n",
    "eccc_time_hm.add_to(eccc_time_map)\n",
    "\n",
    "eccc_time_map"
   ]
  },
  {
   "cell_type": "markdown",
   "id": "a6f7aafa-07a2-461e-8456-286597f01e05",
   "metadata": {},
   "source": [
    "---"
   ]
  },
  {
   "cell_type": "markdown",
   "id": "0aeb4272-454c-4a05-b904-b4855b986e7b",
   "metadata": {},
   "source": [
    "### Plot IDX Smoke Emissions (over time)"
   ]
  },
  {
   "cell_type": "code",
   "execution_count": null,
   "id": "1053a62c-956d-4f62-b64f-3add72fbf885",
   "metadata": {
    "collapsed": true,
    "jupyter": {
     "outputs_hidden": true
    },
    "tags": []
   },
   "outputs": [],
   "source": [
    "# init arr to hold time steps and the lats,lons,vals at each timestep\n",
    "idx_time_data = np.zeros((time_delta, len(idx_coords), 3))\n",
    "\n",
    "for c in range(len(idx_coords)):\n",
    "    # get curr vals\n",
    "    lat = idx_coords[c][0]\n",
    "    lon = idx_coords[c][1]\n",
    "\n",
    "    # i think it returns an error if there's no value there\n",
    "    try:\n",
    "        # get all PM25 values of current coord for all time steps\n",
    "        vals = ds_idx['PM25'].sel(time=time_slice, resolution=data_resolution,\n",
    "            lat=lat, lon=lon).values\n",
    "        # populate array lat, lon, and PM25 values\n",
    "        # create array holding lats, lons, and values\n",
    "        curr_arr = np.column_stack([np.full(time_delta, lat), np.full(time_delta, lon), vals])\n",
    "        idx_time_data[:, c] = curr_arr\n",
    "    except:\n",
    "        print(f'failed at {lat}, {lon}')\n",
    "        \n",
    "# normalize PM2.5 values to be between 0 and 1\n",
    "idx_time_data[:, :, 2] = normalize(idx_time_data[:, :, 2])"
   ]
  },
  {
   "cell_type": "code",
   "execution_count": null,
   "id": "608e1bff-2bad-4ed6-9cad-6f3d365cc25d",
   "metadata": {
    "tags": []
   },
   "outputs": [],
   "source": [
    "idx_time_map = folium.Map([51, -106], zoom_start=4)\n",
    "\n",
    "# data needs to be in list format\n",
    "# ref: https://stackoverflow.com/questions/75330933/folium-heatmapwithtime-html-file-generated-is-blank\n",
    "hm = folium.plugins.HeatMapWithTime(idx_time_data.tolist(), radius=20,\n",
    "    blur=1, auto_play=True)\n",
    "\n",
    "hm.add_to(idx_time_map)\n",
    "\n",
    "idx_time_map"
   ]
  }
 ],
 "metadata": {
  "kernelspec": {
   "display_name": "Python 3 (ipykernel)",
   "language": "python",
   "name": "python3"
  },
  "language_info": {
   "codemirror_mode": {
    "name": "ipython",
    "version": 3
   },
   "file_extension": ".py",
   "mimetype": "text/x-python",
   "name": "python",
   "nbconvert_exporter": "python",
   "pygments_lexer": "ipython3",
   "version": "3.9.18"
  }
 },
 "nbformat": 4,
 "nbformat_minor": 5
}
