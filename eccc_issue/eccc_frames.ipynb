{
 "cells": [
  {
   "cell_type": "markdown",
   "id": "4869486a-297b-4b64-b478-e19e9cbbc2ab",
   "metadata": {},
   "source": [
    "# Create .PNG images of all timesteps in ECCC PM2.5 dataset"
   ]
  },
  {
   "cell_type": "markdown",
   "id": "f5955aae-0dc2-4676-a2d1-054a9b383808",
   "metadata": {},
   "source": [
    "## Import libraries and data"
   ]
  },
  {
   "cell_type": "code",
   "execution_count": 1,
   "id": "0a524961-48cf-42d4-9a7c-cef91a8a840d",
   "metadata": {
    "tags": []
   },
   "outputs": [],
   "source": [
    "# for numerical work\n",
    "import numpy as np\n",
    "import itertools\n",
    "\n",
    "# for accessing file system\n",
    "import os\n",
    "\n",
    "# for loading netcdf files, for metadata\n",
    "import xarray as xr\n",
    "# for connecting OpenVisus framework to xarray\n",
    "# from https://github.com/sci-visus/openvisuspy, \n",
    "from openvisuspy.xarray_backend import OpenVisusBackendEntrypoint\n",
    "\n",
    "# Used for processing netCDF time data\n",
    "import time\n",
    "import datetime\n",
    "import requests\n",
    "# Used for indexing via metadata\n",
    "import pandas as pd\n",
    "\n",
    "# for plotting\n",
    "import matplotlib\n",
    "import matplotlib.pyplot as plt\n",
    "from mpl_toolkits.basemap import Basemap\n",
    "import cartopy.crs as ccrs\n",
    "import cartopy.io.img_tiles as cimgt\n",
    "\n",
    "# for parallelization\n",
    "import multiprocessing\n",
    "\n",
    "#Stores the OpenVisus cache in the local direcrtory \n",
    "import os\n",
    "os.environ[\"VISUS_CACHE\"]=\"./visus_cache_can_be_erased\"\n",
    "os.environ['CURL_CA_BUNDLE'] = ''"
   ]
  },
  {
   "cell_type": "markdown",
   "id": "90a95a50-6a0e-4e8b-8a71-0f6b3d1af8d6",
   "metadata": {},
   "source": [
    "### Import ECCC 2021 and 2022 Data"
   ]
  },
  {
   "cell_type": "code",
   "execution_count": 2,
   "id": "cf2390c9-0c52-46de-a099-2b8b4ff40c91",
   "metadata": {
    "tags": []
   },
   "outputs": [],
   "source": [
    "df_eccc = pd.read_csv('PM25_2021_2022.csv')"
   ]
  },
  {
   "cell_type": "code",
   "execution_count": 3,
   "id": "a7d16f53-1c31-4e17-af4c-685a11684f89",
   "metadata": {
    "tags": []
   },
   "outputs": [],
   "source": [
    "# this date has the max PM2.5 value\n",
    "# all_dates[15744]\n",
    "# df_eccc.iloc[150714]"
   ]
  },
  {
   "cell_type": "code",
   "execution_count": 18,
   "id": "84b3bb01-9c3c-478e-99bb-63ecefcbb868",
   "metadata": {
    "tags": []
   },
   "outputs": [],
   "source": [
    "maxes = []\n",
    "for i in range(0, 24):\n",
    "    maxes.append(np.max(df_eccc[f'{i}'].values))"
   ]
  },
  {
   "cell_type": "markdown",
   "id": "4a406366-59a2-4a1a-9e45-3d175e1de1ea",
   "metadata": {
    "tags": []
   },
   "source": [
    "### Create set of all hours to query for"
   ]
  },
  {
   "cell_type": "code",
   "execution_count": 5,
   "id": "5e210ad5-43dc-4894-86b0-8cee485495b4",
   "metadata": {},
   "outputs": [],
   "source": [
    "eccc_dates = np.sort(df_eccc['Date//Date'].unique())\n",
    "all_dates = []\n",
    "for d in eccc_dates:\n",
    "    for i in range(24):\n",
    "        all_dates.append(pd.Timestamp(f'{d} {i}:00:00'))"
   ]
  },
  {
   "cell_type": "code",
   "execution_count": 6,
   "id": "96d465bb-3146-429b-bb83-75129a5338a8",
   "metadata": {
    "tags": []
   },
   "outputs": [
    {
     "name": "stdout",
     "output_type": "stream",
     "text": [
      "(0, Timestamp('2021-01-01 00:00:00'))\n",
      "(1, Timestamp('2021-01-01 01:00:00'))\n",
      "(2, Timestamp('2021-01-01 02:00:00'))\n",
      "(3, Timestamp('2021-01-01 03:00:00'))\n"
     ]
    }
   ],
   "source": [
    "for i in enumerate(all_dates[0:4]):\n",
    "    print(i)"
   ]
  },
  {
   "cell_type": "markdown",
   "id": "79409354-828e-4900-a4e0-29bf3cb46a40",
   "metadata": {
    "tags": []
   },
   "source": [
    "### Plot ECCC Smoke Emissions over time"
   ]
  },
  {
   "cell_type": "code",
   "execution_count": 7,
   "id": "e5da15d5-78fc-45f8-a84a-3bdefe5887dc",
   "metadata": {
    "tags": []
   },
   "outputs": [],
   "source": [
    "eccc_lons = df_eccc['Longitude//Longitude'].values\n",
    "eccc_lats = df_eccc['Latitude//Latitude'].values\n",
    "eccc_dates = df_eccc['Date//Date'].values"
   ]
  },
  {
   "cell_type": "code",
   "execution_count": 25,
   "id": "74dd83da-95ea-4657-935c-5175191268cb",
   "metadata": {},
   "outputs": [],
   "source": [
    "# set parameters for creating visualization of each timestep with matplotlib\n",
    "my_norm = \"log\"\n",
    "my_extent = [np.min(eccc_lons), np.max(eccc_lons), np.min(eccc_lats), np.max(eccc_lats)]\n",
    "my_aspect = 'auto'\n",
    "my_origin = 'lower'\n",
    "my_cmap = 'hot'\n",
    "my_vmin = 1e-1\n",
    "my_vmax = 1500\n",
    "fig_w, fig_h = 15, 6\n",
    "save_dir = \"/usr/sci/scratch_nvme/arleth/frames/eccc_frames/\"\n",
    "\n",
    "# google map tile parameters\n",
    "tile_style = 'satellite'\n",
    "tile_zoom = 5\n",
    "\n",
    "def create_frame_catch_issues(frame_date_tuple):\n",
    "    # frame number to save PNG as and date to visualize\n",
    "    frame_num = frame_date_tuple[0]\n",
    "    date = frame_date_tuple[1]\n",
    "    hour = date.hour\n",
    "    \n",
    "    google_terrain = cimgt.GoogleTiles(style=tile_style, cache=True)\n",
    "\n",
    "    # set figure size\n",
    "    my_fig, my_plt = plt.subplots(figsize=(fig_w, fig_h), subplot_kw=dict(projection=google_terrain.crs))\n",
    "    my_plt.set_extent(my_extent, crs=ccrs.PlateCarree())\n",
    "    my_plt.set_aspect('auto')\n",
    "    # my_plt.coastlines()\n",
    "    my_plt.gridlines(draw_labels=True)\n",
    "    # my_plt.set_facecolor('black') # set background to black\n",
    "    # select datapoints for given date\n",
    "    date_cond = df_eccc['Date//Date'] == pd.Timestamp(day=date.day, month=date.month, year=date.year).strftime('%Y-%m-%d')\n",
    "\n",
    "    # get the values for the given hour and get latitudes and longitudes for plotting\n",
    "    curr_vals = df_eccc[date_cond][f'{hour}'].values\n",
    "    curr_lats = df_eccc[date_cond]['Latitude//Latitude'].values\n",
    "    curr_lons = df_eccc[date_cond]['Longitude//Longitude'].values\n",
    "\n",
    "    my_plt.add_image(google_terrain, tile_zoom)\n",
    "    plot = my_plt.scatter(curr_lons, curr_lats, c=curr_vals, cmap=my_cmap,\n",
    "                             norm=my_norm, s=5, transform=ccrs.PlateCarree(),\n",
    "                             vmin=my_vmin, vmax=my_vmax)\n",
    "    \n",
    "    my_fig.suptitle(f'Ground level concentration of PM2.5 microns and smaller {date}\\n')\n",
    "    # add caption showing this is from ECCC dataset\n",
    "    my_fig.text(0.5, -0.1, 'ECCC Data', ha='center', va='center', transform=my_plt.transAxes)\n",
    "\n",
    "    my_fig.colorbar(plot, location='right', label='ug/m^3')\n",
    "    # save visualization as a .PNG to our folder\n",
    "    plt.savefig(save_dir + \"frames%010d.png\" % frame_num, dpi=280)\n",
    "    plt.close(my_fig);  # close the figure after saving\n",
    "    plt.show()"
   ]
  },
  {
   "cell_type": "code",
   "execution_count": 26,
   "id": "7a378e57-1fe5-4351-85e7-c19073125ef4",
   "metadata": {
    "tags": []
   },
   "outputs": [
    {
     "name": "stdout",
     "output_type": "stream",
     "text": [
      "starting\n",
      "done!\n",
      "Total elapsed time: 13.636043548583984\n"
     ]
    }
   ],
   "source": [
    "proc_lim = 40\n",
    "# create frames, capturing issues \n",
    "with multiprocessing.Pool(processes=proc_lim) as pool:\n",
    "    # Start a timer to measure how long the conversion takes\n",
    "    start_time = time.time()\n",
    "    print('starting')\n",
    "    issues = pool.map(create_frame_catch_issues, enumerate([all_dates[0], all_dates[15744]]))\n",
    "    print('done!')\n",
    "    # End the timer and print the elapsed time\n",
    "    end_time = time.time()\n",
    "    print(f'Total elapsed time: {end_time - start_time}')"
   ]
  }
 ],
 "metadata": {
  "kernelspec": {
   "display_name": "Python 3 (ipykernel)",
   "language": "python",
   "name": "python3"
  },
  "language_info": {
   "codemirror_mode": {
    "name": "ipython",
    "version": 3
   },
   "file_extension": ".py",
   "mimetype": "text/x-python",
   "name": "python",
   "nbconvert_exporter": "python",
   "pygments_lexer": "ipython3",
   "version": "3.9.18"
  }
 },
 "nbformat": 4,
 "nbformat_minor": 5
}
