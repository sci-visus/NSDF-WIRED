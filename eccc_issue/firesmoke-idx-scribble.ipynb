{
 "cells": [
  {
   "cell_type": "markdown",
   "id": "ca4a48bc-5759-4493-9c86-8115d81615f7",
   "metadata": {
    "jp-MarkdownHeadingCollapsed": true
   },
   "source": [
    "| ![wired](https://www.sci.utah.edu/~pascucci/public/wired-logo-small.png)  | [WIRED Global Center](https://resilience.utah.edu/) + [National Science Data Fabric](https://nationalsciencedatafabric.org/) [Jupyter notebook](https://jupyter.org/) <br> created by [Arleth Z. Salinas](https://arlethzuri.github.io/), and [Valerio Pascucci](http://cedmav.com/)   |![nsdf](https://www.sci.utah.edu/~pascucci/public/NSDF-smaller.PNG)  |\n",
    "|:---|:---:|---:|\n",
    "\n",
    "\n",
    "###  WIRED Global Center  + National Science Data Fabric collaboration: Jupyter Notebook using 3 years of smoke forecast data over US and Canada stored in the cloud and dsitributed via regular internet connection.\n",
    "Data source: [BlueSky Canada Smoke Forecast](https://bluesky4.eos.ubc.ca/)"
   ]
  },
  {
   "cell_type": "markdown",
   "id": "ff5edf9e-1b2c-4e4f-bbac-70c0d7554e29",
   "metadata": {
    "tags": []
   },
   "source": [
    "## This notebook provide the instructions on how to read UBC firesmoke data from [`firsmoke_metadata_current.nc`](https://github.com/sci-visus/NSDF-WIRED/tree/main/data/firesmoke_metadata_recent.nc) using xarray and the OpenVisus xarray backend."
   ]
  },
  {
   "cell_type": "markdown",
   "id": "9215a4e8-4d2a-421c-beb1-d0f650c5888f",
   "metadata": {},
   "source": [
    "Dashboard visible here: http://chpc3.nationalsciencedatafabric.org:9988/dashboards"
   ]
  },
  {
   "cell_type": "markdown",
   "id": "3ba0b27c-cda7-4c59-935d-50b7766303a4",
   "metadata": {},
   "source": [
    "## **Step 1: Importing the libraries**\n",
    "### Please be sure to have libraries installed"
   ]
  },
  {
   "cell_type": "code",
   "execution_count": 1,
   "id": "c9e182d7",
   "metadata": {
    "tags": []
   },
   "outputs": [],
   "source": [
    "# for numerical work\n",
    "import numpy as np\n",
    "\n",
    "# for accessing file system\n",
    "import os\n",
    "\n",
    "# for loading netcdf files, for metadata\n",
    "import xarray as xr\n",
    "# for connecting OpenVisus framework to xarray\n",
    "# from https://github.com/sci-visus/openvisuspy, \n",
    "from openvisuspy.xarray_backend import OpenVisusBackendEntrypoint\n",
    "\n",
    "# Used for processing netCDF time data\n",
    "import time\n",
    "import datetime\n",
    "import requests\n",
    "# Used for indexing via metadata\n",
    "import pandas as pd\n",
    "\n",
    "# for plotting\n",
    "import matplotlib.pyplot as plt\n",
    "import cartopy.crs as ccrs\n",
    "\n",
    "\n",
    "#Stores the OpenVisus cache in the local direcrtory \n",
    "import os\n",
    "os.environ[\"VISUS_CACHE\"]=\"./visus_cache_can_be_erased\"\n",
    "os.environ['CURL_CA_BUNDLE'] = ''"
   ]
  },
  {
   "cell_type": "markdown",
   "id": "79a02fb9-abd7-4168-9f2d-6700c10d8eba",
   "metadata": {
    "tags": []
   },
   "source": [
    "## **Step 2: Reading the data & metadata from file**\n",
    "### In this section, we load our data using `xr.open_dataset`."
   ]
  },
  {
   "cell_type": "code",
   "execution_count": 2,
   "id": "4c25b405-fa12-4831-b51a-116da6c88a77",
   "metadata": {
    "tags": []
   },
   "outputs": [
    {
     "name": "stdout",
     "output_type": "stream",
     "text": [
      "ov.LoadDataset(http://atlantis.sci.utah.edu/mod_visus?dataset=UBC_fire_smoke_BSC&cached=1)\n",
      "PM25\n",
      "Adding field  PM25 shape  [27357, 381, 1081, 21] dtype  float32 labels  ['time', 'ROW', 'COL', 'resolution'] Max Resolution  20\n"
     ]
    }
   ],
   "source": [
    "# path to tiny NetCDF\n",
    "url = 'https://github.com/sci-visus/NSDF-WIRED/raw/main/data/firesmoke_metadata.nc'\n",
    "\n",
    "# Download the file using requests\n",
    "response = requests.get(url)\n",
    "local_netcdf = 'firesmoke_metadata.nc'\n",
    "with open(local_netcdf, 'wb') as f:\n",
    "    f.write(response.content)\n",
    "    \n",
    "# open tiny netcdf with xarray and OpenVisus backend\n",
    "ds = xr.open_dataset(local_netcdf, engine=OpenVisusBackendEntrypoint)"
   ]
  },
  {
   "cell_type": "code",
   "execution_count": 3,
   "id": "3ccc8607-1ead-46fd-8e17-37605ee3207b",
   "metadata": {
    "tags": []
   },
   "outputs": [
    {
     "data": {
      "text/html": [
       "<div><svg style=\"position: absolute; width: 0; height: 0; overflow: hidden\">\n",
       "<defs>\n",
       "<symbol id=\"icon-database\" viewBox=\"0 0 32 32\">\n",
       "<path d=\"M16 0c-8.837 0-16 2.239-16 5v4c0 2.761 7.163 5 16 5s16-2.239 16-5v-4c0-2.761-7.163-5-16-5z\"></path>\n",
       "<path d=\"M16 17c-8.837 0-16-2.239-16-5v6c0 2.761 7.163 5 16 5s16-2.239 16-5v-6c0 2.761-7.163 5-16 5z\"></path>\n",
       "<path d=\"M16 26c-8.837 0-16-2.239-16-5v6c0 2.761 7.163 5 16 5s16-2.239 16-5v-6c0 2.761-7.163 5-16 5z\"></path>\n",
       "</symbol>\n",
       "<symbol id=\"icon-file-text2\" viewBox=\"0 0 32 32\">\n",
       "<path d=\"M28.681 7.159c-0.694-0.947-1.662-2.053-2.724-3.116s-2.169-2.030-3.116-2.724c-1.612-1.182-2.393-1.319-2.841-1.319h-15.5c-1.378 0-2.5 1.121-2.5 2.5v27c0 1.378 1.122 2.5 2.5 2.5h23c1.378 0 2.5-1.122 2.5-2.5v-19.5c0-0.448-0.137-1.23-1.319-2.841zM24.543 5.457c0.959 0.959 1.712 1.825 2.268 2.543h-4.811v-4.811c0.718 0.556 1.584 1.309 2.543 2.268zM28 29.5c0 0.271-0.229 0.5-0.5 0.5h-23c-0.271 0-0.5-0.229-0.5-0.5v-27c0-0.271 0.229-0.5 0.5-0.5 0 0 15.499-0 15.5 0v7c0 0.552 0.448 1 1 1h7v19.5z\"></path>\n",
       "<path d=\"M23 26h-14c-0.552 0-1-0.448-1-1s0.448-1 1-1h14c0.552 0 1 0.448 1 1s-0.448 1-1 1z\"></path>\n",
       "<path d=\"M23 22h-14c-0.552 0-1-0.448-1-1s0.448-1 1-1h14c0.552 0 1 0.448 1 1s-0.448 1-1 1z\"></path>\n",
       "<path d=\"M23 18h-14c-0.552 0-1-0.448-1-1s0.448-1 1-1h14c0.552 0 1 0.448 1 1s-0.448 1-1 1z\"></path>\n",
       "</symbol>\n",
       "</defs>\n",
       "</svg>\n",
       "<style>/* CSS stylesheet for displaying xarray objects in jupyterlab.\n",
       " *\n",
       " */\n",
       "\n",
       ":root {\n",
       "  --xr-font-color0: var(--jp-content-font-color0, rgba(0, 0, 0, 1));\n",
       "  --xr-font-color2: var(--jp-content-font-color2, rgba(0, 0, 0, 0.54));\n",
       "  --xr-font-color3: var(--jp-content-font-color3, rgba(0, 0, 0, 0.38));\n",
       "  --xr-border-color: var(--jp-border-color2, #e0e0e0);\n",
       "  --xr-disabled-color: var(--jp-layout-color3, #bdbdbd);\n",
       "  --xr-background-color: var(--jp-layout-color0, white);\n",
       "  --xr-background-color-row-even: var(--jp-layout-color1, white);\n",
       "  --xr-background-color-row-odd: var(--jp-layout-color2, #eeeeee);\n",
       "}\n",
       "\n",
       "html[theme=dark],\n",
       "body[data-theme=dark],\n",
       "body.vscode-dark {\n",
       "  --xr-font-color0: rgba(255, 255, 255, 1);\n",
       "  --xr-font-color2: rgba(255, 255, 255, 0.54);\n",
       "  --xr-font-color3: rgba(255, 255, 255, 0.38);\n",
       "  --xr-border-color: #1F1F1F;\n",
       "  --xr-disabled-color: #515151;\n",
       "  --xr-background-color: #111111;\n",
       "  --xr-background-color-row-even: #111111;\n",
       "  --xr-background-color-row-odd: #313131;\n",
       "}\n",
       "\n",
       ".xr-wrap {\n",
       "  display: block !important;\n",
       "  min-width: 300px;\n",
       "  max-width: 700px;\n",
       "}\n",
       "\n",
       ".xr-text-repr-fallback {\n",
       "  /* fallback to plain text repr when CSS is not injected (untrusted notebook) */\n",
       "  display: none;\n",
       "}\n",
       "\n",
       ".xr-header {\n",
       "  padding-top: 6px;\n",
       "  padding-bottom: 6px;\n",
       "  margin-bottom: 4px;\n",
       "  border-bottom: solid 1px var(--xr-border-color);\n",
       "}\n",
       "\n",
       ".xr-header > div,\n",
       ".xr-header > ul {\n",
       "  display: inline;\n",
       "  margin-top: 0;\n",
       "  margin-bottom: 0;\n",
       "}\n",
       "\n",
       ".xr-obj-type,\n",
       ".xr-array-name {\n",
       "  margin-left: 2px;\n",
       "  margin-right: 10px;\n",
       "}\n",
       "\n",
       ".xr-obj-type {\n",
       "  color: var(--xr-font-color2);\n",
       "}\n",
       "\n",
       ".xr-sections {\n",
       "  padding-left: 0 !important;\n",
       "  display: grid;\n",
       "  grid-template-columns: 150px auto auto 1fr 20px 20px;\n",
       "}\n",
       "\n",
       ".xr-section-item {\n",
       "  display: contents;\n",
       "}\n",
       "\n",
       ".xr-section-item input {\n",
       "  display: none;\n",
       "}\n",
       "\n",
       ".xr-section-item input + label {\n",
       "  color: var(--xr-disabled-color);\n",
       "}\n",
       "\n",
       ".xr-section-item input:enabled + label {\n",
       "  cursor: pointer;\n",
       "  color: var(--xr-font-color2);\n",
       "}\n",
       "\n",
       ".xr-section-item input:enabled + label:hover {\n",
       "  color: var(--xr-font-color0);\n",
       "}\n",
       "\n",
       ".xr-section-summary {\n",
       "  grid-column: 1;\n",
       "  color: var(--xr-font-color2);\n",
       "  font-weight: 500;\n",
       "}\n",
       "\n",
       ".xr-section-summary > span {\n",
       "  display: inline-block;\n",
       "  padding-left: 0.5em;\n",
       "}\n",
       "\n",
       ".xr-section-summary-in:disabled + label {\n",
       "  color: var(--xr-font-color2);\n",
       "}\n",
       "\n",
       ".xr-section-summary-in + label:before {\n",
       "  display: inline-block;\n",
       "  content: '►';\n",
       "  font-size: 11px;\n",
       "  width: 15px;\n",
       "  text-align: center;\n",
       "}\n",
       "\n",
       ".xr-section-summary-in:disabled + label:before {\n",
       "  color: var(--xr-disabled-color);\n",
       "}\n",
       "\n",
       ".xr-section-summary-in:checked + label:before {\n",
       "  content: '▼';\n",
       "}\n",
       "\n",
       ".xr-section-summary-in:checked + label > span {\n",
       "  display: none;\n",
       "}\n",
       "\n",
       ".xr-section-summary,\n",
       ".xr-section-inline-details {\n",
       "  padding-top: 4px;\n",
       "  padding-bottom: 4px;\n",
       "}\n",
       "\n",
       ".xr-section-inline-details {\n",
       "  grid-column: 2 / -1;\n",
       "}\n",
       "\n",
       ".xr-section-details {\n",
       "  display: none;\n",
       "  grid-column: 1 / -1;\n",
       "  margin-bottom: 5px;\n",
       "}\n",
       "\n",
       ".xr-section-summary-in:checked ~ .xr-section-details {\n",
       "  display: contents;\n",
       "}\n",
       "\n",
       ".xr-array-wrap {\n",
       "  grid-column: 1 / -1;\n",
       "  display: grid;\n",
       "  grid-template-columns: 20px auto;\n",
       "}\n",
       "\n",
       ".xr-array-wrap > label {\n",
       "  grid-column: 1;\n",
       "  vertical-align: top;\n",
       "}\n",
       "\n",
       ".xr-preview {\n",
       "  color: var(--xr-font-color3);\n",
       "}\n",
       "\n",
       ".xr-array-preview,\n",
       ".xr-array-data {\n",
       "  padding: 0 5px !important;\n",
       "  grid-column: 2;\n",
       "}\n",
       "\n",
       ".xr-array-data,\n",
       ".xr-array-in:checked ~ .xr-array-preview {\n",
       "  display: none;\n",
       "}\n",
       "\n",
       ".xr-array-in:checked ~ .xr-array-data,\n",
       ".xr-array-preview {\n",
       "  display: inline-block;\n",
       "}\n",
       "\n",
       ".xr-dim-list {\n",
       "  display: inline-block !important;\n",
       "  list-style: none;\n",
       "  padding: 0 !important;\n",
       "  margin: 0;\n",
       "}\n",
       "\n",
       ".xr-dim-list li {\n",
       "  display: inline-block;\n",
       "  padding: 0;\n",
       "  margin: 0;\n",
       "}\n",
       "\n",
       ".xr-dim-list:before {\n",
       "  content: '(';\n",
       "}\n",
       "\n",
       ".xr-dim-list:after {\n",
       "  content: ')';\n",
       "}\n",
       "\n",
       ".xr-dim-list li:not(:last-child):after {\n",
       "  content: ',';\n",
       "  padding-right: 5px;\n",
       "}\n",
       "\n",
       ".xr-has-index {\n",
       "  font-weight: bold;\n",
       "}\n",
       "\n",
       ".xr-var-list,\n",
       ".xr-var-item {\n",
       "  display: contents;\n",
       "}\n",
       "\n",
       ".xr-var-item > div,\n",
       ".xr-var-item label,\n",
       ".xr-var-item > .xr-var-name span {\n",
       "  background-color: var(--xr-background-color-row-even);\n",
       "  margin-bottom: 0;\n",
       "}\n",
       "\n",
       ".xr-var-item > .xr-var-name:hover span {\n",
       "  padding-right: 5px;\n",
       "}\n",
       "\n",
       ".xr-var-list > li:nth-child(odd) > div,\n",
       ".xr-var-list > li:nth-child(odd) > label,\n",
       ".xr-var-list > li:nth-child(odd) > .xr-var-name span {\n",
       "  background-color: var(--xr-background-color-row-odd);\n",
       "}\n",
       "\n",
       ".xr-var-name {\n",
       "  grid-column: 1;\n",
       "}\n",
       "\n",
       ".xr-var-dims {\n",
       "  grid-column: 2;\n",
       "}\n",
       "\n",
       ".xr-var-dtype {\n",
       "  grid-column: 3;\n",
       "  text-align: right;\n",
       "  color: var(--xr-font-color2);\n",
       "}\n",
       "\n",
       ".xr-var-preview {\n",
       "  grid-column: 4;\n",
       "}\n",
       "\n",
       ".xr-index-preview {\n",
       "  grid-column: 2 / 5;\n",
       "  color: var(--xr-font-color2);\n",
       "}\n",
       "\n",
       ".xr-var-name,\n",
       ".xr-var-dims,\n",
       ".xr-var-dtype,\n",
       ".xr-preview,\n",
       ".xr-attrs dt {\n",
       "  white-space: nowrap;\n",
       "  overflow: hidden;\n",
       "  text-overflow: ellipsis;\n",
       "  padding-right: 10px;\n",
       "}\n",
       "\n",
       ".xr-var-name:hover,\n",
       ".xr-var-dims:hover,\n",
       ".xr-var-dtype:hover,\n",
       ".xr-attrs dt:hover {\n",
       "  overflow: visible;\n",
       "  width: auto;\n",
       "  z-index: 1;\n",
       "}\n",
       "\n",
       ".xr-var-attrs,\n",
       ".xr-var-data,\n",
       ".xr-index-data {\n",
       "  display: none;\n",
       "  background-color: var(--xr-background-color) !important;\n",
       "  padding-bottom: 5px !important;\n",
       "}\n",
       "\n",
       ".xr-var-attrs-in:checked ~ .xr-var-attrs,\n",
       ".xr-var-data-in:checked ~ .xr-var-data,\n",
       ".xr-index-data-in:checked ~ .xr-index-data {\n",
       "  display: block;\n",
       "}\n",
       "\n",
       ".xr-var-data > table {\n",
       "  float: right;\n",
       "}\n",
       "\n",
       ".xr-var-name span,\n",
       ".xr-var-data,\n",
       ".xr-index-name div,\n",
       ".xr-index-data,\n",
       ".xr-attrs {\n",
       "  padding-left: 25px !important;\n",
       "}\n",
       "\n",
       ".xr-attrs,\n",
       ".xr-var-attrs,\n",
       ".xr-var-data,\n",
       ".xr-index-data {\n",
       "  grid-column: 1 / -1;\n",
       "}\n",
       "\n",
       "dl.xr-attrs {\n",
       "  padding: 0;\n",
       "  margin: 0;\n",
       "  display: grid;\n",
       "  grid-template-columns: 125px auto;\n",
       "}\n",
       "\n",
       ".xr-attrs dt,\n",
       ".xr-attrs dd {\n",
       "  padding: 0;\n",
       "  margin: 0;\n",
       "  float: left;\n",
       "  padding-right: 10px;\n",
       "  width: auto;\n",
       "}\n",
       "\n",
       ".xr-attrs dt {\n",
       "  font-weight: normal;\n",
       "  grid-column: 1;\n",
       "}\n",
       "\n",
       ".xr-attrs dt:hover span {\n",
       "  display: inline-block;\n",
       "  background: var(--xr-background-color);\n",
       "  padding-right: 10px;\n",
       "}\n",
       "\n",
       ".xr-attrs dd {\n",
       "  grid-column: 2;\n",
       "  white-space: pre-wrap;\n",
       "  word-break: break-all;\n",
       "}\n",
       "\n",
       ".xr-icon-database,\n",
       ".xr-icon-file-text2,\n",
       ".xr-no-icon {\n",
       "  display: inline-block;\n",
       "  vertical-align: middle;\n",
       "  width: 1em;\n",
       "  height: 1.5em !important;\n",
       "  stroke-width: 0;\n",
       "  stroke: currentColor;\n",
       "  fill: currentColor;\n",
       "}\n",
       "</style><pre class='xr-text-repr-fallback'>&lt;xarray.Dataset&gt; Size: 946GB\n",
       "Dimensions:            (time: 27357, ROW: 381, COL: 1081, resolution: 21,\n",
       "                        VAR: 1, DATE-TIME: 2)\n",
       "Dimensions without coordinates: time, ROW, COL, resolution, VAR, DATE-TIME\n",
       "Data variables:\n",
       "    PM25               (time, ROW, COL, resolution) float32 946GB ...\n",
       "    TFLAG              (time, VAR, DATE-TIME) int32 219kB ...\n",
       "    wrf_arw_init_time  (time, VAR, DATE-TIME) int32 219kB ...\n",
       "    resampled          (time) bool 27kB ...\n",
       "    CDATE              (time) int32 109kB ...\n",
       "    CTIME              (time) int32 109kB ...\n",
       "    WDATE              (time) int32 109kB ...\n",
       "    WTIME              (time) int32 109kB ...\n",
       "    SDATE              (time) int32 109kB ...\n",
       "    STIME              (time) int32 109kB ...\n",
       "Attributes: (12/28)\n",
       "    IOAPI_VERSION:  $Id: @(#) ioapi library version 3.0 $                    ...\n",
       "    EXEC_ID:        ????????????????                                         ...\n",
       "    FTYPE:          1\n",
       "    TSTEP:          10000\n",
       "    NTHIK:          1\n",
       "    NCOLS:          1081\n",
       "    ...             ...\n",
       "    GDNAM:          HYSPLIT CONC    \n",
       "    UPNAM:          hysplit2netCDF  \n",
       "    VAR-LIST:       PM25            \n",
       "    FILEDESC:       Hysplit Concentration Model Output                       ...\n",
       "    HISTORY:        \n",
       "    idx_url:        http://atlantis.sci.utah.edu/mod_visus?dataset=UBC_fire_s...</pre><div class='xr-wrap' style='display:none'><div class='xr-header'><div class='xr-obj-type'>xarray.Dataset</div></div><ul class='xr-sections'><li class='xr-section-item'><input id='section-e21ead76-b3a1-4d27-8423-b9e94179b0b3' class='xr-section-summary-in' type='checkbox' disabled ><label for='section-e21ead76-b3a1-4d27-8423-b9e94179b0b3' class='xr-section-summary'  title='Expand/collapse section'>Dimensions:</label><div class='xr-section-inline-details'><ul class='xr-dim-list'><li><span>time</span>: 27357</li><li><span>ROW</span>: 381</li><li><span>COL</span>: 1081</li><li><span>resolution</span>: 21</li><li><span>VAR</span>: 1</li><li><span>DATE-TIME</span>: 2</li></ul></div><div class='xr-section-details'></div></li><li class='xr-section-item'><input id='section-8151a015-f792-43dd-98d9-00a6e92e7780' class='xr-section-summary-in' type='checkbox' disabled ><label for='section-8151a015-f792-43dd-98d9-00a6e92e7780' class='xr-section-summary'  title='Expand/collapse section'>Coordinates: <span>(0)</span></label><div class='xr-section-inline-details'></div><div class='xr-section-details'><ul class='xr-var-list'></ul></div></li><li class='xr-section-item'><input id='section-75e8c55a-cbbb-4376-b258-0ac50afc1796' class='xr-section-summary-in' type='checkbox'  checked><label for='section-75e8c55a-cbbb-4376-b258-0ac50afc1796' class='xr-section-summary' >Data variables: <span>(10)</span></label><div class='xr-section-inline-details'></div><div class='xr-section-details'><ul class='xr-var-list'><li class='xr-var-item'><div class='xr-var-name'><span>PM25</span></div><div class='xr-var-dims'>(time, ROW, COL, resolution)</div><div class='xr-var-dtype'>float32</div><div class='xr-var-preview xr-preview'>...</div><input id='attrs-81abdbd8-4bed-4b67-a66e-d333d9436768' class='xr-var-attrs-in' type='checkbox' ><label for='attrs-81abdbd8-4bed-4b67-a66e-d333d9436768' title='Show/Hide attributes'><svg class='icon xr-icon-file-text2'><use xlink:href='#icon-file-text2'></use></svg></label><input id='data-2315739d-2511-4aa5-a132-24fbea668cee' class='xr-var-data-in' type='checkbox'><label for='data-2315739d-2511-4aa5-a132-24fbea668cee' title='Show/Hide data repr'><svg class='icon xr-icon-database'><use xlink:href='#icon-database'></use></svg></label><div class='xr-var-attrs'><dl class='xr-attrs'><dt><span>long_name :</span></dt><dd>PM25            </dd><dt><span>units :</span></dt><dd>ug/m^3          </dd><dt><span>var_desc :</span></dt><dd>PM25                                                                            </dd></dl></div><div class='xr-var-data'><pre>[236612908917 values with dtype=float32]</pre></div></li><li class='xr-var-item'><div class='xr-var-name'><span>TFLAG</span></div><div class='xr-var-dims'>(time, VAR, DATE-TIME)</div><div class='xr-var-dtype'>int32</div><div class='xr-var-preview xr-preview'>...</div><input id='attrs-c48350fb-098d-4aa1-8942-4772fed64eb9' class='xr-var-attrs-in' type='checkbox' disabled><label for='attrs-c48350fb-098d-4aa1-8942-4772fed64eb9' title='Show/Hide attributes'><svg class='icon xr-icon-file-text2'><use xlink:href='#icon-file-text2'></use></svg></label><input id='data-09a464e2-3260-4190-b9f5-87eb88c96275' class='xr-var-data-in' type='checkbox'><label for='data-09a464e2-3260-4190-b9f5-87eb88c96275' title='Show/Hide data repr'><svg class='icon xr-icon-database'><use xlink:href='#icon-database'></use></svg></label><div class='xr-var-attrs'><dl class='xr-attrs'></dl></div><div class='xr-var-data'><pre>[54714 values with dtype=int32]</pre></div></li><li class='xr-var-item'><div class='xr-var-name'><span>wrf_arw_init_time</span></div><div class='xr-var-dims'>(time, VAR, DATE-TIME)</div><div class='xr-var-dtype'>int32</div><div class='xr-var-preview xr-preview'>...</div><input id='attrs-6cc63c08-5213-4ad3-951c-126e13a24d7e' class='xr-var-attrs-in' type='checkbox' disabled><label for='attrs-6cc63c08-5213-4ad3-951c-126e13a24d7e' title='Show/Hide attributes'><svg class='icon xr-icon-file-text2'><use xlink:href='#icon-file-text2'></use></svg></label><input id='data-aa7e1fc4-2519-419c-81c7-f32f26709c88' class='xr-var-data-in' type='checkbox'><label for='data-aa7e1fc4-2519-419c-81c7-f32f26709c88' title='Show/Hide data repr'><svg class='icon xr-icon-database'><use xlink:href='#icon-database'></use></svg></label><div class='xr-var-attrs'><dl class='xr-attrs'></dl></div><div class='xr-var-data'><pre>[54714 values with dtype=int32]</pre></div></li><li class='xr-var-item'><div class='xr-var-name'><span>resampled</span></div><div class='xr-var-dims'>(time)</div><div class='xr-var-dtype'>bool</div><div class='xr-var-preview xr-preview'>...</div><input id='attrs-e4134e1e-c985-4dbc-afd8-228b7334d574' class='xr-var-attrs-in' type='checkbox' disabled><label for='attrs-e4134e1e-c985-4dbc-afd8-228b7334d574' title='Show/Hide attributes'><svg class='icon xr-icon-file-text2'><use xlink:href='#icon-file-text2'></use></svg></label><input id='data-6add72e0-1d59-45b6-a0fd-fec410b0f568' class='xr-var-data-in' type='checkbox'><label for='data-6add72e0-1d59-45b6-a0fd-fec410b0f568' title='Show/Hide data repr'><svg class='icon xr-icon-database'><use xlink:href='#icon-database'></use></svg></label><div class='xr-var-attrs'><dl class='xr-attrs'></dl></div><div class='xr-var-data'><pre>[27357 values with dtype=bool]</pre></div></li><li class='xr-var-item'><div class='xr-var-name'><span>CDATE</span></div><div class='xr-var-dims'>(time)</div><div class='xr-var-dtype'>int32</div><div class='xr-var-preview xr-preview'>...</div><input id='attrs-828da218-fc94-430b-9b5c-19e7fa1f49d3' class='xr-var-attrs-in' type='checkbox' disabled><label for='attrs-828da218-fc94-430b-9b5c-19e7fa1f49d3' title='Show/Hide attributes'><svg class='icon xr-icon-file-text2'><use xlink:href='#icon-file-text2'></use></svg></label><input id='data-56b46d76-4e1a-4118-9cf8-6b96cc30a33a' class='xr-var-data-in' type='checkbox'><label for='data-56b46d76-4e1a-4118-9cf8-6b96cc30a33a' title='Show/Hide data repr'><svg class='icon xr-icon-database'><use xlink:href='#icon-database'></use></svg></label><div class='xr-var-attrs'><dl class='xr-attrs'></dl></div><div class='xr-var-data'><pre>[27357 values with dtype=int32]</pre></div></li><li class='xr-var-item'><div class='xr-var-name'><span>CTIME</span></div><div class='xr-var-dims'>(time)</div><div class='xr-var-dtype'>int32</div><div class='xr-var-preview xr-preview'>...</div><input id='attrs-692c382a-80a9-4e02-9d0e-10cf40845a5a' class='xr-var-attrs-in' type='checkbox' disabled><label for='attrs-692c382a-80a9-4e02-9d0e-10cf40845a5a' title='Show/Hide attributes'><svg class='icon xr-icon-file-text2'><use xlink:href='#icon-file-text2'></use></svg></label><input id='data-2dc6b06d-1ac3-4a40-8d18-551187f597df' class='xr-var-data-in' type='checkbox'><label for='data-2dc6b06d-1ac3-4a40-8d18-551187f597df' title='Show/Hide data repr'><svg class='icon xr-icon-database'><use xlink:href='#icon-database'></use></svg></label><div class='xr-var-attrs'><dl class='xr-attrs'></dl></div><div class='xr-var-data'><pre>[27357 values with dtype=int32]</pre></div></li><li class='xr-var-item'><div class='xr-var-name'><span>WDATE</span></div><div class='xr-var-dims'>(time)</div><div class='xr-var-dtype'>int32</div><div class='xr-var-preview xr-preview'>...</div><input id='attrs-d0503aaf-583e-4e09-9be3-037c83e54bf9' class='xr-var-attrs-in' type='checkbox' disabled><label for='attrs-d0503aaf-583e-4e09-9be3-037c83e54bf9' title='Show/Hide attributes'><svg class='icon xr-icon-file-text2'><use xlink:href='#icon-file-text2'></use></svg></label><input id='data-0f15cb3f-84fd-45d0-99fe-419a0250e7a4' class='xr-var-data-in' type='checkbox'><label for='data-0f15cb3f-84fd-45d0-99fe-419a0250e7a4' title='Show/Hide data repr'><svg class='icon xr-icon-database'><use xlink:href='#icon-database'></use></svg></label><div class='xr-var-attrs'><dl class='xr-attrs'></dl></div><div class='xr-var-data'><pre>[27357 values with dtype=int32]</pre></div></li><li class='xr-var-item'><div class='xr-var-name'><span>WTIME</span></div><div class='xr-var-dims'>(time)</div><div class='xr-var-dtype'>int32</div><div class='xr-var-preview xr-preview'>...</div><input id='attrs-2b7507ae-1755-453a-892a-81740ceb05e6' class='xr-var-attrs-in' type='checkbox' disabled><label for='attrs-2b7507ae-1755-453a-892a-81740ceb05e6' title='Show/Hide attributes'><svg class='icon xr-icon-file-text2'><use xlink:href='#icon-file-text2'></use></svg></label><input id='data-4b57b198-0aa6-4c7a-a22b-15f8568e346a' class='xr-var-data-in' type='checkbox'><label for='data-4b57b198-0aa6-4c7a-a22b-15f8568e346a' title='Show/Hide data repr'><svg class='icon xr-icon-database'><use xlink:href='#icon-database'></use></svg></label><div class='xr-var-attrs'><dl class='xr-attrs'></dl></div><div class='xr-var-data'><pre>[27357 values with dtype=int32]</pre></div></li><li class='xr-var-item'><div class='xr-var-name'><span>SDATE</span></div><div class='xr-var-dims'>(time)</div><div class='xr-var-dtype'>int32</div><div class='xr-var-preview xr-preview'>...</div><input id='attrs-a63b086e-556b-42c0-95f2-c211e05d97a2' class='xr-var-attrs-in' type='checkbox' disabled><label for='attrs-a63b086e-556b-42c0-95f2-c211e05d97a2' title='Show/Hide attributes'><svg class='icon xr-icon-file-text2'><use xlink:href='#icon-file-text2'></use></svg></label><input id='data-a499779c-ec97-4953-b275-b2b40f17a9de' class='xr-var-data-in' type='checkbox'><label for='data-a499779c-ec97-4953-b275-b2b40f17a9de' title='Show/Hide data repr'><svg class='icon xr-icon-database'><use xlink:href='#icon-database'></use></svg></label><div class='xr-var-attrs'><dl class='xr-attrs'></dl></div><div class='xr-var-data'><pre>[27357 values with dtype=int32]</pre></div></li><li class='xr-var-item'><div class='xr-var-name'><span>STIME</span></div><div class='xr-var-dims'>(time)</div><div class='xr-var-dtype'>int32</div><div class='xr-var-preview xr-preview'>...</div><input id='attrs-4fd3fa5e-baf0-4ac4-b569-49f1bf105cb3' class='xr-var-attrs-in' type='checkbox' disabled><label for='attrs-4fd3fa5e-baf0-4ac4-b569-49f1bf105cb3' title='Show/Hide attributes'><svg class='icon xr-icon-file-text2'><use xlink:href='#icon-file-text2'></use></svg></label><input id='data-0f3e4e44-4104-4418-bb11-03247c7a176f' class='xr-var-data-in' type='checkbox'><label for='data-0f3e4e44-4104-4418-bb11-03247c7a176f' title='Show/Hide data repr'><svg class='icon xr-icon-database'><use xlink:href='#icon-database'></use></svg></label><div class='xr-var-attrs'><dl class='xr-attrs'></dl></div><div class='xr-var-data'><pre>[27357 values with dtype=int32]</pre></div></li></ul></div></li><li class='xr-section-item'><input id='section-4c696b9a-4b42-48cc-952b-fbd9db5f477d' class='xr-section-summary-in' type='checkbox' disabled ><label for='section-4c696b9a-4b42-48cc-952b-fbd9db5f477d' class='xr-section-summary'  title='Expand/collapse section'>Indexes: <span>(0)</span></label><div class='xr-section-inline-details'></div><div class='xr-section-details'><ul class='xr-var-list'></ul></div></li><li class='xr-section-item'><input id='section-0e3688f1-8a25-4178-b55d-e57dfcff3250' class='xr-section-summary-in' type='checkbox'  ><label for='section-0e3688f1-8a25-4178-b55d-e57dfcff3250' class='xr-section-summary' >Attributes: <span>(28)</span></label><div class='xr-section-inline-details'></div><div class='xr-section-details'><dl class='xr-attrs'><dt><span>IOAPI_VERSION :</span></dt><dd>$Id: @(#) ioapi library version 3.0 $                                           </dd><dt><span>EXEC_ID :</span></dt><dd>????????????????                                                                </dd><dt><span>FTYPE :</span></dt><dd>1</dd><dt><span>TSTEP :</span></dt><dd>10000</dd><dt><span>NTHIK :</span></dt><dd>1</dd><dt><span>NCOLS :</span></dt><dd>1081</dd><dt><span>NROWS :</span></dt><dd>381</dd><dt><span>NLAYS :</span></dt><dd>1</dd><dt><span>NVARS :</span></dt><dd>1</dd><dt><span>GDTYP :</span></dt><dd>1</dd><dt><span>P_ALP :</span></dt><dd>0.0</dd><dt><span>P_BET :</span></dt><dd>0.0</dd><dt><span>P_GAM :</span></dt><dd>0.0</dd><dt><span>XCENT :</span></dt><dd>-106.0</dd><dt><span>YCENT :</span></dt><dd>51.0</dd><dt><span>XORIG :</span></dt><dd>-160.0</dd><dt><span>YORIG :</span></dt><dd>32.0</dd><dt><span>XCELL :</span></dt><dd>0.10000000149011612</dd><dt><span>YCELL :</span></dt><dd>0.10000000149011612</dd><dt><span>VGTYP :</span></dt><dd>5</dd><dt><span>VGTOP :</span></dt><dd>-9999.0</dd><dt><span>VGLVLS :</span></dt><dd>[10.  0.]</dd><dt><span>GDNAM :</span></dt><dd>HYSPLIT CONC    </dd><dt><span>UPNAM :</span></dt><dd>hysplit2netCDF  </dd><dt><span>VAR-LIST :</span></dt><dd>PM25            </dd><dt><span>FILEDESC :</span></dt><dd>Hysplit Concentration Model Output                                              lat-lon coordinate system                                                                                                                                                                                                                                                                                                                                                                                                                                                                                                                                                                                                                                                                                                                                                                                                                                                                                                                                                                                                                                                                                                                                                                                                                                                                                                                                                                                                                                                                                                                                                                                                                                                                                                                                                                                                                                                                                                                                                                                                                                                                                                                                                                                                                                                                                                                                                                                                                                                                                                                                                                                                                                                                                                                                                                                                                                                                                                                                                                                                                                                                                                                                                                                                                                                                                                                                                                                                                                                                                                                                                                                                                                                                                                                                                                                                                                                                                                                                                                                                                                                                                                                                                                                                                                                                                                                                                                                                                                                                                                                                                                                                                                                                                                                                                                                                                                                                                       </dd><dt><span>HISTORY :</span></dt><dd></dd><dt><span>idx_url :</span></dt><dd>http://atlantis.sci.utah.edu/mod_visus?dataset=UBC_fire_smoke_BSC&amp;cached=1</dd></dl></div></li></ul></div></div>"
      ],
      "text/plain": [
       "<xarray.Dataset> Size: 946GB\n",
       "Dimensions:            (time: 27357, ROW: 381, COL: 1081, resolution: 21,\n",
       "                        VAR: 1, DATE-TIME: 2)\n",
       "Dimensions without coordinates: time, ROW, COL, resolution, VAR, DATE-TIME\n",
       "Data variables:\n",
       "    PM25               (time, ROW, COL, resolution) float32 946GB ...\n",
       "    TFLAG              (time, VAR, DATE-TIME) int32 219kB ...\n",
       "    wrf_arw_init_time  (time, VAR, DATE-TIME) int32 219kB ...\n",
       "    resampled          (time) bool 27kB ...\n",
       "    CDATE              (time) int32 109kB ...\n",
       "    CTIME              (time) int32 109kB ...\n",
       "    WDATE              (time) int32 109kB ...\n",
       "    WTIME              (time) int32 109kB ...\n",
       "    SDATE              (time) int32 109kB ...\n",
       "    STIME              (time) int32 109kB ...\n",
       "Attributes: (12/28)\n",
       "    IOAPI_VERSION:  $Id: @(#) ioapi library version 3.0 $                    ...\n",
       "    EXEC_ID:        ????????????????                                         ...\n",
       "    FTYPE:          1\n",
       "    TSTEP:          10000\n",
       "    NTHIK:          1\n",
       "    NCOLS:          1081\n",
       "    ...             ...\n",
       "    GDNAM:          HYSPLIT CONC    \n",
       "    UPNAM:          hysplit2netCDF  \n",
       "    VAR-LIST:       PM25            \n",
       "    FILEDESC:       Hysplit Concentration Model Output                       ...\n",
       "    HISTORY:        \n",
       "    idx_url:        http://atlantis.sci.utah.edu/mod_visus?dataset=UBC_fire_s..."
      ]
     },
     "execution_count": 3,
     "metadata": {},
     "output_type": "execute_result"
    }
   ],
   "source": [
    "ds"
   ]
  },
  {
   "cell_type": "markdown",
   "id": "bb2a36ea-ecd8-496a-871c-bb18381e5740",
   "metadata": {},
   "source": [
    "#### Data Variables Description\n",
    "| Attribute         | Description                                                                                                           |\n",
    "|-------------------|-----------------------------------------------------------------------------------------------------------------------|\n",
    "| PM25              | The concentration of particulate matter (PM2.5) for each time step, layer, row, and column in the spatial grid.       |\n",
    "| TFLAG             | The date and time of each data point.                                                                                 |\n",
    "| wrf_arw_init_time | The time at which this prediction's weather forecast was initiated.                                                   |\n",
    "| resampled         | Whether this timestamp was resampled from a 381x1041 to 381x1081 grid or not.                                         |\n",
    "| CDATE             | The creation date of the data point, in YYYYDDD format.                                                                  |\n",
    "| CTIME             | The creation time of the data point, in HHMMSS format.                                                                   |\n",
    "| WDATE             | The date for which the weather forecast is initiated, in YYYYDDD format.                                              |\n",
    "| WTIME             | The time for which the weather forecast is initiated, in HHMMSS format.                                               |\n",
    "| SDATE             | The date for which the smoke forecast is initiated, in YYYYDDD format.                                                |\n",
    "| STIME             | The time for which the weather forecast is initiated, in HHMMSS format.                                               |"
   ]
  },
  {
   "cell_type": "markdown",
   "id": "385474fb-b159-47a5-87f6-884a2e6b4a0b",
   "metadata": {},
   "source": [
    "## **Step 2.5, Calculate derived metadata using original metadata above to create coordinates**\n",
    "### This is required to allow for indexing of data via metadata"
   ]
  },
  {
   "cell_type": "markdown",
   "id": "758cd2bb-b75d-484f-82df-fe702ae15506",
   "metadata": {},
   "source": [
    "#### Calculate latitude and longitude grid"
   ]
  },
  {
   "cell_type": "code",
   "execution_count": 4,
   "id": "35d6b10f-6613-42ea-a0f8-a5e82d2e71df",
   "metadata": {},
   "outputs": [
    {
     "name": "stdout",
     "output_type": "stream",
     "text": [
      "Size of longitude & latitude arrays:\n",
      "np.size(longitude) = 1081\n",
      "np.size(latitude) = 381\n",
      "\n",
      "Min & Max of longitude and latitude arrays:\n",
      "longitude: min = -160.0, max = -51.99999839067459\n",
      "latitude: min = 32.0, max = 70.00000056624413\n"
     ]
    }
   ],
   "source": [
    "# Get metadata to compute lon and lat\n",
    "xorig = ds.XORIG\n",
    "yorig = ds.YORIG\n",
    "xcell = ds.XCELL\n",
    "ycell = ds.YCELL\n",
    "ncols = ds.NCOLS\n",
    "nrows = ds.NROWS\n",
    "\n",
    "longitude = np.linspace(xorig, xorig + xcell * (ncols - 1), ncols)\n",
    "latitude = np.linspace(yorig, yorig + ycell * (nrows - 1), nrows)\n",
    "\n",
    "print(\"Size of longitude & latitude arrays:\")\n",
    "print(f'np.size(longitude) = {np.size(longitude)}')\n",
    "print(f'np.size(latitude) = {np.size(latitude)}\\n')\n",
    "print(\"Min & Max of longitude and latitude arrays:\")\n",
    "print(f'longitude: min = {np.min(longitude)}, max = {np.max(longitude)}')\n",
    "print(f'latitude: min = {np.min(latitude)}, max = {np.max(latitude)}')"
   ]
  },
  {
   "cell_type": "markdown",
   "id": "1dd48faf-1332-439f-955e-150bd60888c8",
   "metadata": {},
   "source": [
    "#### Using calculated latitude and longitude, create coordinates allowing for indexing data using lat/lon"
   ]
  },
  {
   "cell_type": "code",
   "execution_count": 5,
   "id": "f889a8c8-29e1-4202-a02a-695765aedef5",
   "metadata": {
    "tags": []
   },
   "outputs": [],
   "source": [
    "# Create coordinates for lat and lon (credit: Aashish Panta)\n",
    "ds.coords['lat'] = ('ROW', latitude)\n",
    "ds.coords['lon'] = ('COL', longitude)\n",
    "\n",
    "# Replace col and row dimensions with newly calculated lon and lat arrays (credit: Aashish Panta)\n",
    "ds = ds.swap_dims({'COL': 'lon', 'ROW': 'lat'})"
   ]
  },
  {
   "cell_type": "markdown",
   "id": "f3cbb2b3-7bbf-47a7-b12b-f30e34de6a2e",
   "metadata": {},
   "source": [
    "#### Create coordinates allowing for indexing data using timestamp"
   ]
  },
  {
   "cell_type": "markdown",
   "id": "e9083682-25cb-4d51-8d2e-765b377e3b67",
   "metadata": {},
   "source": [
    "##### First, convert tflags to timestamps that are compatible with xarray"
   ]
  },
  {
   "cell_type": "code",
   "execution_count": 6,
   "id": "c72cd60c-3ca6-4dd8-9f21-09ec41a27fb6",
   "metadata": {
    "scrolled": true
   },
   "outputs": [],
   "source": [
    "def parse_tflag(tflag):\n",
    "    \"\"\"\n",
    "    Return the tflag as a datetime object\n",
    "    :param list tflag: a list of two int32, the 1st representing date and 2nd representing time\n",
    "    \"\"\"\n",
    "    # obtain year and day of year from tflag[0] (date)\n",
    "    date = int(tflag[0])\n",
    "    year = date // 1000 # first 4 digits of tflag[0]\n",
    "    day_of_year = date % 1000 # last 3 digits of tflag[0]\n",
    "\n",
    "    # create datetime object representing date\n",
    "    final_date = datetime.datetime(year, 1, 1) + datetime.timedelta(days=day_of_year - 1)\n",
    "\n",
    "    # obtain hour, mins, and secs from tflag[1] (time)\n",
    "    time = int(tflag[1])\n",
    "    hours = time // 10000 # first 2 digits of tflag[1]\n",
    "    minutes = (time % 10000) // 100 # 3rd and 4th digits of tflag[1] \n",
    "    seconds = time % 100  # last 2 digits of tflag[1]\n",
    "\n",
    "    # create final datetime object\n",
    "    full_datetime = datetime.datetime(year, final_date.month, final_date.day, hours, minutes, seconds)\n",
    "    return full_datetime"
   ]
  },
  {
   "cell_type": "markdown",
   "id": "de2bc716-bb8f-4b1e-8947-a2d52b688a74",
   "metadata": {},
   "source": [
    "##### Return an array of the tflags as pandas timestamps"
   ]
  },
  {
   "cell_type": "code",
   "execution_count": 7,
   "id": "f4c6a5cd-0a71-46b0-ac63-0c18290c1286",
   "metadata": {},
   "outputs": [
    {
     "data": {
      "text/plain": [
       "[Timestamp('2021-03-04 00:00:00'),\n",
       " Timestamp('2021-03-04 01:00:00'),\n",
       " Timestamp('2021-03-04 02:00:00')]"
      ]
     },
     "execution_count": 7,
     "metadata": {},
     "output_type": "execute_result"
    }
   ],
   "source": [
    "# get all tflags\n",
    "tflag_values = ds['TFLAG'].values\n",
    "\n",
    "# to store pandas timestamps\n",
    "timestamps = []\n",
    "\n",
    "# convert all tflags to pandas timestamps, store in timestamps list\n",
    "for tflag in tflag_values:\n",
    "    timestamps.append(pd.Timestamp(parse_tflag(tflag[0])))\n",
    "\n",
    "# check out the first 3 timestamps\n",
    "timestamps[0:3]"
   ]
  },
  {
   "cell_type": "code",
   "execution_count": 8,
   "id": "867c6c2b-8a9e-44b6-9dfc-49838d0c9c04",
   "metadata": {},
   "outputs": [],
   "source": [
    "# set coordinates to each timestep with these pandas timestamps\n",
    "ds.coords['time'] = ('time', timestamps)"
   ]
  },
  {
   "cell_type": "markdown",
   "id": "0844360e-9d19-4bc0-9f09-0024b64f402c",
   "metadata": {},
   "source": [
    "#### The timestamps may not be intuitive. The following utility function returns the desired pandas timestamp based on your date and time of interest. \n",
    "\n",
    "##### When you index the data at a desired time, use this function to get the timestamp you need to index."
   ]
  },
  {
   "cell_type": "code",
   "execution_count": 9,
   "id": "7ae260b4-0b7d-48e7-909d-7fe9ba82bf61",
   "metadata": {},
   "outputs": [],
   "source": [
    "def get_timestamp(year, month, day, hour):\n",
    "    \"\"\"\n",
    "    return a pandas timestamp using the given date-time arguments\n",
    "    :param int year: year\n",
    "    :param int month: month\n",
    "    :param int day: day\n",
    "    :param int hour: hour\n",
    "    \"\"\"\n",
    "    # Convert year, month, day, and hour to a datetime object\n",
    "    full_datetime = datetime.datetime(year, month, day, hour)\n",
    "    \n",
    "    # Extract components from the datetime object\n",
    "    year = full_datetime.year\n",
    "    day_of_year = full_datetime.timetuple().tm_yday\n",
    "    hours = full_datetime.hour\n",
    "    minutes = full_datetime.minute\n",
    "    seconds = full_datetime.second\n",
    "\n",
    "    # Compute tflag[0] and tflag[1]\n",
    "    tflag0 = year * 1000 + day_of_year\n",
    "    tflag1 = hours * 10000 + minutes * 100 + seconds\n",
    "\n",
    "    # Return the Pandas Timestamp object\n",
    "    return pd.Timestamp(full_datetime)"
   ]
  },
  {
   "cell_type": "markdown",
   "id": "ebe3db04-4720-4e1c-856e-e962d4dda777",
   "metadata": {
    "tags": []
   },
   "source": [
    "## **Step 3:  Select a `data_slice`**\n",
    "### This section shows you how to load the data you want. "
   ]
  },
  {
   "cell_type": "markdown",
   "id": "16c23b6e-1d6e-4557-a6b9-087ae2953769",
   "metadata": {},
   "source": [
    "#### You can index the data using indices, timestamps*, latitude & longitude, and by desired resolution**.\n",
    "*Not setting any time means the first timestep available is selected.\n",
    "**Not setting quality means full data resolution is selected.\n",
    "\n",
    "---"
   ]
  },
  {
   "cell_type": "markdown",
   "id": "240bcb9e-61b8-4249-8042-aaf4fc35a205",
   "metadata": {},
   "source": [
    "##### In this case, let's get all available firesmoke data for March 5, 2021 00:00:00 and the time and date for which it's weather and smoke forecast were initiated."
   ]
  },
  {
   "cell_type": "code",
   "execution_count": 10,
   "id": "9aea7adf-5eb2-4480-99ec-a3ef7047d3e0",
   "metadata": {},
   "outputs": [
    {
     "name": "stdout",
     "output_type": "stream",
     "text": [
      "timestamp: 2021-03-25 11:00:00\n",
      "resampled: True (boolean)\n",
      "SDATE is 2021084 (YYYYDDD)\n",
      "STIME is 90000 (HHMMSS)\n",
      "WDATE is 2021084 (YYYYDDD)\n",
      "WTIME is 122510 (HHMMSS)\n",
      "Using Max Resolution:  20\n",
      "Time: 515, max_resolution: 20, logic_box=(0, 1081, 0, 381), field: PM25\n",
      "shape of data_array_at_time.values = (381, 1081)\n"
     ]
    }
   ],
   "source": [
    "# select timestamp\n",
    "my_timestamp = get_timestamp(2021, 3, 25, 11)\n",
    "\n",
    "# select resolution, let's use full resolution since data isn't too big at one time slice\n",
    "# data resolution can be -19 for lowest res and 0 for highest res\n",
    "data_resolution = 0\n",
    "\n",
    "# get PM25 values and provide 4 values, the colons mean select all lat and lon indices\n",
    "data_array_at_time = ds['PM25'].loc[my_timestamp, :, :, data_resolution]\n",
    "\n",
    "# the metadata specifying weather and smoke forecast initialization times\n",
    "resampled = ds['resampled'].loc[my_timestamp]\n",
    "sdate = ds['SDATE'].loc[my_timestamp]\n",
    "stime = ds['STIME'].loc[my_timestamp]\n",
    "wdate = ds['WDATE'].loc[my_timestamp]\n",
    "wtime = ds['WTIME'].loc[my_timestamp]\n",
    "\n",
    "# notice, to access the data, you must append \".values\" to the data array we got above\n",
    "print(f'timestamp: {my_timestamp}')\n",
    "print(f'resampled: {resampled.values} (boolean)')\n",
    "print(f'SDATE is {sdate.values} (YYYYDDD)')\n",
    "print(f'STIME is {stime.values} (HHMMSS)')\n",
    "print(f'WDATE is {wdate.values} (YYYYDDD)')\n",
    "print(f'WTIME is {wtime.values} (HHMMSS)')\n",
    "print(f'shape of data_array_at_time.values = {np.shape(data_array_at_time.values)}')"
   ]
  },
  {
   "cell_type": "code",
   "execution_count": 11,
   "id": "15cb3f1d-a1eb-44f6-b95a-a43454bd5fda",
   "metadata": {
    "tags": []
   },
   "outputs": [],
   "source": [
    "# lats = data_array_at_time.lat.values\n",
    "# lons = data_array_at_time.lon.values\n",
    "# vals = data_array_at_time.values"
   ]
  },
  {
   "cell_type": "code",
   "execution_count": 12,
   "id": "f125af6b-99ba-433c-9f77-dd9bcecadd88",
   "metadata": {
    "tags": []
   },
   "outputs": [],
   "source": [
    "# contourf = plt.contourf(lons, lats, vals, linestyles = 'None', norm = 'log', extend = 'both')"
   ]
  },
  {
   "cell_type": "markdown",
   "id": "3a53af2f-c1a6-4379-a685-341576b4f8d9",
   "metadata": {},
   "source": [
    "##### Perhaps we want to slice a specific latitude longitude range from our `data_array_at_time`, for example, latitude range `[35, 50]` and longitude range `[-140, -80]`. Let's do that below."
   ]
  },
  {
   "cell_type": "code",
   "execution_count": 13,
   "id": "a74de20b-30bf-4bed-bb25-745c1ad6403b",
   "metadata": {},
   "outputs": [
    {
     "name": "stdout",
     "output_type": "stream",
     "text": [
      "timestamp: 2021-03-25 11:00:00\n",
      "Using Max Resolution:  20\n",
      "Time: 515, max_resolution: 20, logic_box=(200, 800, 30, 180), field: PM25\n",
      "shape of data_array_at_time.values = (150, 600)\n"
     ]
    }
   ],
   "source": [
    "# # define range for latitude and longitude to use\n",
    "min_lat = 35\n",
    "max_lat = 50\n",
    "min_lon = -140\n",
    "max_lon = -80\n",
    "\n",
    "# get PM25 values and provide 4 values, but this time at our desired ranges\n",
    "data_array_at_latlon = ds['PM25'].loc[my_timestamp, min_lat:max_lat, min_lon:max_lon, data_resolution]\n",
    "\n",
    "# notice, to access the data, you must append \".values\" to the data array we got above\n",
    "print(f'timestamp: {my_timestamp}')\n",
    "print(f'shape of data_array_at_time.values = {np.shape(data_array_at_latlon.values)}')"
   ]
  },
  {
   "cell_type": "markdown",
   "id": "a0001cfa-c08a-4f5a-a867-0954762d7667",
   "metadata": {},
   "source": [
    "We show how to obtain this attribute information for a time step of one's choice, let's use "
   ]
  },
  {
   "cell_type": "markdown",
   "id": "7f51ca29-0307-4695-ac3d-582b00fa33d6",
   "metadata": {},
   "source": [
    "#### The following are the max and min timestamps, lon/lat values, and data resolutions you can index by\n",
    "##### Be sure you index within the data range, otherwise you may get errors since no data exists outside these ranges!"
   ]
  },
  {
   "cell_type": "code",
   "execution_count": 14,
   "id": "8689f676-5f72-434f-aa84-f3f608dc9a4c",
   "metadata": {},
   "outputs": [
    {
     "name": "stdout",
     "output_type": "stream",
     "text": [
      "earliest valid timestamp is: 2021-03-04T00:00:00.000000000\n",
      "latest valid timestamp is: 2024-06-27T22:00:00.000000000\n",
      "\n",
      "valid longitude range is: -160.0, -51.99999839067459\n",
      "valid latitude range is: 32.0, 70.00000056624413\n",
      "\n",
      "valid data resolutions range is: [-19, 0]\n"
     ]
    }
   ],
   "source": [
    "# NOTE: there is one dummy date, ignore ds['time'].values[-1]\n",
    "print(f\"earliest valid timestamp is: {ds['time'].values[0]}\")\n",
    "print(f\"latest valid timestamp is: {ds['time'].values[-2]}\\n\")\n",
    "\n",
    "print(f\"valid longitude range is: {ds['lon'].values[0]}, {ds['lon'].values[-1]}\")\n",
    "print(f\"valid latitude range is: {ds['lat'].values[0]}, {ds['lat'].values[-1]}\\n\")\n",
    "\n",
    "print(f\"valid data resolutions range is: [-19, 0]\")"
   ]
  },
  {
   "cell_type": "markdown",
   "id": "db8a4846-f9ad-44a7-a39d-c1e2d28717b9",
   "metadata": {},
   "source": [
    "## **Step 4:  Visualize `data_slice`**\n",
    "### One can visualize the data either by:\n",
    "### 1. Get the values from your `data_array_at_time` and plot using your favorite python visualization library. We'll use matplotlib.\n",
    "#### 2. Use xarray's built in plotting function (not recommended, as it is not robust)\n",
    "---"
   ]
  },
  {
   "cell_type": "markdown",
   "id": "d50c6232-021f-45e5-b680-e00fa3b1efd3",
   "metadata": {},
   "source": [
    "Here we plot `data_array_at_time` with matplotlib and its basemap extenstion to add geographic context."
   ]
  },
  {
   "cell_type": "code",
   "execution_count": 30,
   "id": "5ca598f5-fe98-4826-b275-c3d03243039c",
   "metadata": {
    "tags": []
   },
   "outputs": [
    {
     "data": {
      "text/plain": [
       "[1e-13,\n",
       " 1e-12,\n",
       " 1.0000000000000001e-11,\n",
       " 1e-10,\n",
       " 1e-09,\n",
       " 1e-08,\n",
       " 1.0000000000000001e-07,\n",
       " 1e-06,\n",
       " 1e-05,\n",
       " 0.0001,\n",
       " 0.001,\n",
       " 0.01,\n",
       " 0.1,\n",
       " 1.0]"
      ]
     },
     "execution_count": 30,
     "metadata": {},
     "output_type": "execute_result"
    }
   ],
   "source": [
    "my_vmin = 1e-1\n",
    "my_vmax = 1500\n",
    "my_levels = []\n",
    "\n",
    "for i in range(14):\n",
    "    my_levels.append((10**(-13)) * (10**i))\n",
    "    \n",
    "my_levels"
   ]
  },
  {
   "cell_type": "code",
   "execution_count": 32,
   "id": "c58133a1",
   "metadata": {
    "tags": []
   },
   "outputs": [
    {
     "data": {
      "image/png": "[encoded data removed]",
      "text/plain": [
       "<Figure size 1500x600 with 2 Axes>"
      ]
     },
     "metadata": {},
     "output_type": "display_data"
    }
   ],
   "source": [
    "# Let's use matplotlib's imshow, since our data is on a grid\n",
    "# ref: https://matplotlib.org/stable/api/_as_gen/matplotlib.pyplot.imshow.html\n",
    "\n",
    "# Initialize a figure and plot, so we can customize figure and plot of data\n",
    "# ref: https://matplotlib.org/stable/api/_as_gen/matplotlib.pyplot.subplots.html\n",
    "# ref: https://scitools.org.uk/cartopy/docs/latest/getting_started/index.html\n",
    "my_fig, my_plt = plt.subplots(figsize=(15, 6), subplot_kw=dict(projection=ccrs.PlateCarree()))\n",
    "\n",
    "# Let's set some parameters to get the visualization we want\n",
    "# ref: https://matplotlib.org/stable/api/_as_gen/matplotlib.pyplot.imshow.html\n",
    "\n",
    "# color PM25 values on a log scale, since values are small\n",
    "my_norm = \"log\" \n",
    "# this will number our x and y axes based on the longitude latitude range\n",
    "my_extent = [np.min(longitude), np.max(longitude), np.min(latitude), np.max(latitude)]\n",
    "# ensure the aspect ratio of our plot fits all data, matplotlib can does this automatically\n",
    "my_aspect = 'auto'\n",
    "# tell matplotlib, our origin is the lower-left corner\n",
    "my_origin = 'lower'\n",
    "# select a colormap for our plot and the color bar on the right\n",
    "my_cmap = 'Oranges'\n",
    "my_vmin = 1e-1\n",
    "my_vmax = 1500\n",
    "lats = data_array_at_time.lat.values\n",
    "lons = data_array_at_time.lon.values\n",
    "vals = data_array_at_time.values\n",
    "\n",
    "# create our plot using imshow\n",
    "plot = my_plt.imshow(vals, norm=my_norm, extent=my_extent, \n",
    "          aspect=my_aspect, origin=my_origin, cmap=my_cmap)\n",
    "# plot = my_plt.contourf(lons, lats, vals, levels=my_levels, linestyles='None', cmap=my_cmap, origin=my_origin,\n",
    "#                        norm=my_norm, extend='both')\n",
    "\n",
    "# draw coastlines\n",
    "my_plt.coastlines()\n",
    "\n",
    "# draw latitude longitude lines\n",
    "# ref: https://scitools.org.uk/cartopy/docs/latest/gallery/gridlines_and_labels/gridliner.html\n",
    "my_plt.gridlines(draw_labels=True)\n",
    "\n",
    "# add a colorbar to our figure, based on the plot we just made above\n",
    "my_fig.colorbar(plot,location='right', label='ug/m^3')\n",
    "\n",
    "# Add metadata as text annotations\n",
    "metadata_text = (\n",
    "    f'resampled: {resampled.values}\\n'\n",
    "    f'SDATE: {sdate.values}\\n'\n",
    "    f'STIME: {stime.values}\\n'\n",
    "    f'WDATE: {wdate.values}\\n'\n",
    "    f'WTIME: {wtime.values}'\n",
    ")\n",
    "\n",
    "# Place metadata text on the plot\n",
    "my_plt.text(0.02, 0.02, metadata_text, transform=my_plt.transAxes,\n",
    "            fontsize=12, verticalalignment='bottom', bbox=dict(facecolor='white', alpha=0.8))\n",
    "\n",
    "# Set x and y axis labels on our ax\n",
    "my_fig.supxlabel('Longitude')\n",
    "my_fig.supylabel('Latitude')\n",
    "\n",
    "# Set title of our figure\n",
    "my_fig.suptitle('Ground level concentration of PM2.5 microns and smaller')\n",
    "\n",
    "# Set title of our plot as the timestamp of our data\n",
    "my_plt.set_title(f'{my_timestamp}')\n",
    "\n",
    "# Show the resulting visualization\n",
    "plt.show()"
   ]
  },
  {
   "cell_type": "markdown",
   "id": "6d6d81b8-e18c-475e-a09f-9ca534f681cd",
   "metadata": {},
   "source": [
    "Here we plot with xarray's built-in matplotlib powered plotter."
   ]
  },
  {
   "cell_type": "code",
   "execution_count": null,
   "id": "ccf70c29-97c3-4ce6-93c7-e6045bef8597",
   "metadata": {
    "tags": []
   },
   "outputs": [],
   "source": [
    "data_array_at_time.plot(vmin=0, vmax=30)"
   ]
  },
  {
   "cell_type": "markdown",
   "id": "6a550d01-8d85-48f0-a121-f06d6ba18b06",
   "metadata": {},
   "source": [
    "---\n",
    "Here we plot data_array_at_latlon. We use the exact same code, but define `my_extent` accordingly."
   ]
  },
  {
   "cell_type": "code",
   "execution_count": null,
   "id": "5084c252-567b-4339-b71a-691d44d28898",
   "metadata": {},
   "outputs": [],
   "source": [
    "# Let's use matplotlib's imshow, since our data is on a grid\n",
    "# ref: https://matplotlib.org/stable/api/_as_gen/matplotlib.pyplot.imshow.html\n",
    "\n",
    "# Initialize a figure and plot, so we can customize figure and plot of data\n",
    "# ref: https://matplotlib.org/stable/api/_as_gen/matplotlib.pyplot.subplots.html\n",
    "my_fig, my_plt = plt.subplots(figsize=(15, 6), subplot_kw=dict(projection=ccrs.PlateCarree()))\n",
    "\n",
    "# Let's set some parameters to get the visualization we want\n",
    "# ref: https://matplotlib.org/stable/api/_as_gen/matplotlib.pyplot.imshow.html\n",
    "\n",
    "# color PM25 values on a log scale, since values are small\n",
    "my_norm = \"log\" \n",
    "# ***this will number our x and y axes based on the longitude latitude range***\n",
    "my_extent = [min_lon, max_lon, min_lat, max_lat]\n",
    "# ensure the aspect ratio of our plot fits all data, matplotlib can does this automatically\n",
    "my_aspect = 'auto'\n",
    "# tell matplotlib, our origin is the lower-left corner\n",
    "my_origin = 'lower'\n",
    "# select a colormap for our plot and the color bar on the right\n",
    "my_cmap = 'Oranges'\n",
    "\n",
    "# create our plot using imshow\n",
    "plot = plt.imshow(data_array_at_latlon.values, norm=my_norm, extent=my_extent, \n",
    "          aspect=my_aspect, origin=my_origin, cmap=my_cmap)\n",
    "\n",
    "# draw coastlines\n",
    "my_plt.coastlines()\n",
    "\n",
    "# draw latitude longitude lines\n",
    "# ref: https://scitools.org.uk/cartopy/docs/latest/gallery/gridlines_and_labels/gridliner.html\n",
    "my_plt.gridlines(draw_labels=True)\n",
    "\n",
    "# add a colorbar to our figure, based on the plot we just made above\n",
    "my_fig.colorbar(plot,location='right', label='ug/m^3')\n",
    "\n",
    "# Add metadata as text annotations\n",
    "metadata_text = (\n",
    "    f'resampled: {resampled.values}\\n'\n",
    "    f'SDATE: {sdate.values}\\n'\n",
    "    f'STIME: {stime.values}\\n'\n",
    "    f'WDATE: {wdate.values}\\n'\n",
    "    f'WTIME: {wtime.values}'\n",
    ")\n",
    "\n",
    "# Place metadata text on the plot\n",
    "my_plt.text(0.02, 0.02, metadata_text, transform=my_plt.transAxes,\n",
    "            fontsize=12, verticalalignment='bottom', bbox=dict(facecolor='white', alpha=0.8))\n",
    "\n",
    "# Set x and y axis labels on our ax\n",
    "my_fig.supxlabel('Longitude')\n",
    "my_fig.supylabel('Latitude')\n",
    "\n",
    "# Set title of our figure\n",
    "my_fig.suptitle('Ground level concentration of PM2.5 microns and smaller')\n",
    "\n",
    "# Set title of our plot as the timestamp of our data\n",
    "my_plt.set_title(f'{my_timestamp}')\n",
    "\n",
    "# Show the resulting visualization\n",
    "plt.show()"
   ]
  },
  {
   "cell_type": "code",
   "execution_count": null,
   "id": "edf41f8c-3774-45cb-82b7-d83e673c054b",
   "metadata": {
    "tags": []
   },
   "outputs": [],
   "source": [
    "data_array_at_latlon.plot(vmin=0, vmax=30)"
   ]
  },
  {
   "cell_type": "markdown",
   "id": "d4c13ced-3fc0-406f-8ee4-d8455737e278",
   "metadata": {},
   "source": [
    "### *Please reach out to Arleth Salinas or Valerio Pascucci for any concerns about the notebook. Thank you!*\n",
    "- Arleth Salinas (arleth.salinas@utah.edu)\n",
    "- Valerio Pascucci (pascucci.valerio@gmail.com)"
   ]
  }
 ],
 "metadata": {
  "kernelspec": {
   "display_name": "Python 3 (ipykernel)",
   "language": "python",
   "name": "python3"
  },
  "language_info": {
   "codemirror_mode": {
    "name": "ipython",
    "version": 3
   },
   "file_extension": ".py",
   "mimetype": "text/x-python",
   "name": "python",
   "nbconvert_exporter": "python",
   "pygments_lexer": "ipython3",
   "version": "3.9.19"
  }
 },
 "nbformat": 4,
 "nbformat_minor": 5
}
