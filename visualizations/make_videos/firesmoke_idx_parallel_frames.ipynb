{
 "cells": [
  {
   "cell_type": "markdown",
   "id": "217f49b7-528d-4384-aede-cc371224b9fd",
   "metadata": {},
   "source": [
    "# Create .PNG images of all timesteps in IDX firesmoke dataset"
   ]
  },
  {
   "cell_type": "markdown",
   "id": "38ac89f1-da13-4a78-b05f-ac4a17fea961",
   "metadata": {},
   "source": [
    "## Import necessary libraries"
   ]
  },
  {
   "cell_type": "code",
   "execution_count": 1,
   "id": "dfdb7475-1c3d-41ef-92a2-dbaaaba8ef6f",
   "metadata": {},
   "outputs": [],
   "source": [
    "# for numerical work\n",
    "import numpy as np\n",
    "\n",
    "# for accessing file system\n",
    "import os\n",
    "\n",
    "# for downloading latest firesmoke netCDF\n",
    "import requests\n",
    "\n",
    "# for loading netcdf files, for metadata\n",
    "import xarray as xr\n",
    "# for connecting OpenVisus framework to xarray\n",
    "# from https://github.com/sci-visus/openvisuspy, \n",
    "from openvisuspy.xarray_backend import OpenVisusBackendEntrypoint\n",
    "\n",
    "# Used for processing netCDF time data\n",
    "import time\n",
    "import datetime\n",
    "\n",
    "# Used for indexing via metadata\n",
    "import pandas as pd\n",
    "\n",
    "# for plotting\n",
    "import matplotlib\n",
    "import matplotlib.pyplot as plt\n",
    "import cartopy.crs as ccrs\n",
    "\n",
    "# for exporting the dictionary of issue files at the end of notebook\n",
    "import pickle\n",
    "\n",
    "# Stores the OpenVisus cache in the local direcrtory \n",
    "import os\n",
    "os.environ[\"VISUS_CACHE\"]=\"./visus_cache_can_be_erased\"\n",
    "\n",
    "# Accessory, used to generate progress bar for running for loops\n",
    "# from tqdm.notebook import tqdm\n",
    "# import ipywidgets\n",
    "# import jupyterlab_widgets\n",
    "from tqdm import tqdm\n",
    "\n",
    "from OpenVisus import *"
   ]
  },
  {
   "cell_type": "markdown",
   "id": "f31dce7e-0bb4-459a-bf1f-85934fb960e5",
   "metadata": {
    "tags": []
   },
   "source": [
    "### In this section, we load our data using `xr.open_dataset`."
   ]
  },
  {
   "cell_type": "code",
   "execution_count": 2,
   "id": "a7ab5486-318a-4a2b-8af2-7fa89509b9e4",
   "metadata": {},
   "outputs": [
    {
     "name": "stdout",
     "output_type": "stream",
     "text": [
      "ov.LoadDataset(http://atlantis.sci.utah.edu/mod_visus?dataset=UBC_fire_smoke_BSC&cached=1)\n",
      "PM25\n",
      "Adding field  PM25 shape  [27357, 381, 1081, 21] dtype  float32 labels  ['time', 'ROW', 'COL', 'resolution'] Max Resolution  20\n"
     ]
    }
   ],
   "source": [
    "# path to tiny NetCDF\n",
    "url = 'https://github.com/sci-visus/NSDF-WIRED/raw/main/data/firesmoke_metadata.nc'\n",
    "\n",
    "# Download the file using requests\n",
    "response = requests.get(url)\n",
    "local_netcdf = 'firesmoke_metadata.nc'\n",
    "with open(local_netcdf, 'wb') as f:\n",
    "    f.write(response.content)\n",
    "    \n",
    "# open tiny netcdf with xarray and OpenVisus backend\n",
    "ds = xr.open_dataset(local_netcdf, engine=OpenVisusBackendEntrypoint)"
   ]
  },
  {
   "cell_type": "markdown",
   "id": "924a37bd-1218-4096-bd68-f85e12dbf566",
   "metadata": {},
   "source": [
    "## Calculate derived metadata using original metadata above to create coordinates\n",
    "### This is required to allow for indexing of data via metadata"
   ]
  },
  {
   "cell_type": "markdown",
   "id": "7488084c-f982-4d03-ab25-7c81679aef1c",
   "metadata": {},
   "source": [
    "#### Calculate latitude and longitude grid"
   ]
  },
  {
   "cell_type": "code",
   "execution_count": 3,
   "id": "dd8287e0-dd1b-486a-850f-4ac8f229a23e",
   "metadata": {},
   "outputs": [],
   "source": [
    "# Get metadata to compute lon and lat\n",
    "xorig = ds.XORIG\n",
    "yorig = ds.YORIG\n",
    "xcell = ds.XCELL\n",
    "ycell = ds.YCELL\n",
    "ncols = ds.NCOLS\n",
    "nrows = ds.NROWS\n",
    "\n",
    "longitude = np.linspace(xorig, xorig + xcell * (ncols - 1), ncols)\n",
    "latitude = np.linspace(yorig, yorig + ycell * (nrows - 1), nrows)"
   ]
  },
  {
   "cell_type": "markdown",
   "id": "9627e8f5-b7df-4abc-aedf-8938bbebee29",
   "metadata": {},
   "source": [
    "#### Using calculated latitude and longitude, create coordinates allowing for indexing data using lat/lon"
   ]
  },
  {
   "cell_type": "code",
   "execution_count": 4,
   "id": "3f07279c-353b-4a74-a1ff-5c6543255a4f",
   "metadata": {
    "tags": []
   },
   "outputs": [],
   "source": [
    "# Create coordinates for lat and lon (credit: Aashish Panta)\n",
    "ds.coords['lat'] = ('ROW', latitude)\n",
    "ds.coords['lon'] = ('COL', longitude)\n",
    "\n",
    "# Replace col and row dimensions with newly calculated lon and lat arrays (credit: Aashish Panta)\n",
    "ds = ds.swap_dims({'COL': 'lon', 'ROW': 'lat'})"
   ]
  },
  {
   "cell_type": "markdown",
   "id": "a41bb5f3-d231-4fe7-8be6-69c53e78df99",
   "metadata": {},
   "source": [
    "## Create the frames"
   ]
  },
  {
   "cell_type": "code",
   "execution_count": 5,
   "id": "07aabeb1-271c-40d8-a99d-3b256263e471",
   "metadata": {
    "tags": []
   },
   "outputs": [],
   "source": [
    "def parse_tflag(tflag):\n",
    "    \"\"\"\n",
    "    Return the tflag as a datetime object\n",
    "    :param list tflag: a list of two int32, the 1st representing date and 2nd representing time\n",
    "    \"\"\"\n",
    "    # obtain year and day of year from tflag[0] (date)\n",
    "    date = int(tflag[0])\n",
    "    year = date // 1000 # first 4 digits of tflag[0]\n",
    "    day_of_year = date % 1000 # last 3 digits of tflag[0]\n",
    "\n",
    "    # create datetime object representing date\n",
    "    final_date = datetime.datetime(year, 1, 1) + datetime.timedelta(days=day_of_year - 1)\n",
    "\n",
    "    # obtain hour, mins, and secs from tflag[1] (time)\n",
    "    time = int(tflag[1])\n",
    "    hours = time // 10000 # first 2 digits of tflag[1]\n",
    "    minutes = (time % 10000) // 100 # 3rd and 4th digits of tflag[1] \n",
    "    seconds = time % 100  # last 2 digits of tflag[1]\n",
    "\n",
    "    # create final datetime object\n",
    "    full_datetime = datetime.datetime(year, final_date.month, final_date.day, hours, minutes, seconds)\n",
    "    return full_datetime"
   ]
  },
  {
   "cell_type": "code",
   "execution_count": 6,
   "id": "55cbc300-7eea-40ef-9e53-0c69276503c9",
   "metadata": {
    "tags": []
   },
   "outputs": [],
   "source": [
    "# set parameters for creating visualization of each timestep with matplotlib\n",
    "my_norm = \"log\"\n",
    "my_extent = [np.min(longitude), np.max(longitude), np.min(latitude), np.max(latitude)]\n",
    "my_aspect = 'auto'\n",
    "my_origin = 'lower'\n",
    "my_cmap = 'hot'\n",
    "\n",
    "data_resolution = 0\n",
    "save_dir = \"/usr/sci/scratch_nvme/arleth/dump/idx_frames/\"\n",
    "issue_files = {}\n",
    "\n",
    "def create_frame_catch_issues(tstep):\n",
    "    # get PM25 values and provide 4 values, the colons mean select all lat and lon indices\n",
    "    data_array_at_time = ds['PM25'].loc[tstep, :, :, data_resolution]\n",
    "    \n",
    "    # create visualization using matplotlib and cartopy geography lines, \n",
    "    # catch exceptions accordingly\n",
    "    try:\n",
    "        t = pd.Timestamp(parse_tflag(ds.TFLAG[tstep][0]))\n",
    "        my_fig, my_plt = plt.subplots(figsize=(15, 6), subplot_kw=dict(projection=ccrs.PlateCarree()))\n",
    "        plot = my_plt.imshow(data_array_at_time, norm=my_norm, extent=my_extent, aspect=my_aspect, origin=my_origin, cmap=my_cmap)\n",
    "        my_fig.colorbar(plot,location='right', label='ug/m^3')\n",
    "        my_plt.coastlines()\n",
    "        my_plt.gridlines(draw_labels=True)\n",
    "        my_fig.suptitle(f'Ground level concentration of PM2.5 microns and smaller {t}\\n')\n",
    "        # add caption showing this is from IDX dataset\n",
    "        my_plt.text(0.5, -0.1, 'IDX Data', ha='center', va='center', transform=my_plt.transAxes)\n",
    "        \n",
    "        # # save visualization as a .PNG to our folder\n",
    "        plt.savefig(save_dir + \"frames%05d.png\" % tstep, dpi=280)\n",
    "        plt.close(my_fig);  # close the figure after saving\n",
    "        matplotlib.pyplot.close()\n",
    "    except:\n",
    "        t = pd.Timestamp(parse_tflag(ds.TFLAG[tstep][0]))\n",
    "        print(f\"issue! {t}\")\n",
    "        return t, data_array_at_time"
   ]
  },
  {
   "cell_type": "code",
   "execution_count": null,
   "id": "709b9d45-a5d5-4163-9003-5a5d15e5841a",
   "metadata": {
    "tags": []
   },
   "outputs": [],
   "source": [
    " # create frames, capturing issues \n",
    "with multiprocessing.Pool() as pool:\n",
    "    # Start a timer to measure how long the conversion takes\n",
    "    start_time = time.time()\n",
    "    print('starting')\n",
    "    issues = pool.map(create_frame_catch_issues, np.arange(0, ds.sizes['time']))\n",
    "    print('done!')\n",
    "    # End the timer and print the elapsed time\n",
    "    end_time = time.time()\n",
    "    print(f'Total elapsed time: {end_time - start_time}')"
   ]
  },
  {
   "cell_type": "code",
   "execution_count": null,
   "id": "97eb7afe-5960-4fee-aec8-b815c34c2664",
   "metadata": {},
   "outputs": [],
   "source": [
    "# save 'issue_files' to review\n",
    "with open('new_idx_issues.pkl', 'wb') as f:\n",
    "    pickle.dump(issue_files, f)"
   ]
  },
  {
   "cell_type": "code",
   "execution_count": null,
   "id": "5e2e20ec-4e42-456e-8ec8-e987ccefe289",
   "metadata": {},
   "outputs": [],
   "source": [
    "with open('new_idx_issues.pkl', 'rb') as f:\n",
    "    new_idx_issues = pickle.load(f)\n",
    "print(f'len of new_idx_issues.pkl = {len(new_idx_issues)}')"
   ]
  }
 ],
 "metadata": {
  "kernelspec": {
   "display_name": "Python 3 (ipykernel)",
   "language": "python",
   "name": "python3"
  },
  "language_info": {
   "codemirror_mode": {
    "name": "ipython",
    "version": 3
   },
   "file_extension": ".py",
   "mimetype": "text/x-python",
   "name": "python",
   "nbconvert_exporter": "python",
   "pygments_lexer": "ipython3",
   "version": "3.11.5"
  }
 },
 "nbformat": 4,
 "nbformat_minor": 5
}
